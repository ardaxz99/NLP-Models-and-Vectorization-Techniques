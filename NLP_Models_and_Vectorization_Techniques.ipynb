{
  "nbformat": 4,
  "nbformat_minor": 0,
  "metadata": {
    "colab": {
      "provenance": [],
      "collapsed_sections": [
        "13_nizFvn2vk",
        "jk-QHKz2jh4Y",
        "Sz887zWIkFNM",
        "jFw8QcYUDQ2w",
        "z9QYlX9LDVda"
      ],
      "machine_shape": "hm",
      "mount_file_id": "1t6XscCMMYDeKKdi_gOJkIcNzcLAJxy7A",
      "authorship_tag": "ABX9TyMCb6J9SEb0iVPFDnUiNZYy",
      "include_colab_link": true
    },
    "kernelspec": {
      "name": "python3",
      "display_name": "Python 3"
    },
    "language_info": {
      "name": "python"
    },
    "accelerator": "GPU",
    "gpuClass": "standard"
  },
  "cells": [
    {
      "cell_type": "markdown",
      "metadata": {
        "id": "view-in-github",
        "colab_type": "text"
      },
      "source": [
        "<a href=\"https://colab.research.google.com/github/ardaxz99/NLP-Models-and-Vectorization-Techniques/blob/main/NLP_Models_and_Vectorization_Techniques.ipynb\" target=\"_parent\"><img src=\"https://colab.research.google.com/assets/colab-badge.svg\" alt=\"Open In Colab\"/></a>"
      ]
    },
    {
      "cell_type": "code",
      "source": [
        "from google.colab import drive\n",
        "drive.mount('/content/drive')"
      ],
      "metadata": {
        "colab": {
          "base_uri": "https://localhost:8080/"
        },
        "id": "tS2rQlaFKPfB",
        "outputId": "f6b94c64-d046-4ed8-e205-bfe9f0e06ca2"
      },
      "execution_count": null,
      "outputs": [
        {
          "output_type": "stream",
          "name": "stdout",
          "text": [
            "Drive already mounted at /content/drive; to attempt to forcibly remount, call drive.mount(\"/content/drive\", force_remount=True).\n"
          ]
        }
      ]
    },
    {
      "cell_type": "markdown",
      "source": [
        "## **EDA and Cleaning**"
      ],
      "metadata": {
        "id": "13_nizFvn2vk"
      }
    },
    {
      "cell_type": "code",
      "execution_count": null,
      "metadata": {
        "id": "n32PSLQtVJEk"
      },
      "outputs": [],
      "source": [
        "import numpy as np # linear algebra\n",
        "import pandas as pd # data processing, CSV file I/O (e.g. pd.read_csv)\n",
        "from sklearn.feature_extraction.text import CountVectorizer\n",
        "from sklearn.pipeline import Pipeline\n",
        "from sklearn.model_selection import train_test_split, GridSearchCV\n",
        "from sklearn.metrics import confusion_matrix,f1_score\n",
        "from sklearn.naive_bayes import MultinomialNB\n",
        "from sklearn.ensemble import RandomForestClassifier\n",
        "\n",
        "\n",
        "import os\n",
        "\n",
        "import seaborn as sns\n",
        "import re\n",
        "import matplotlib.pyplot as plt\n",
        "import missingno as ms\n",
        "%matplotlib inline\n",
        "\n",
        "import seaborn as sns\n",
        "from plotly.offline import download_plotlyjs, init_notebook_mode, plot, iplot"
      ]
    },
    {
      "cell_type": "code",
      "source": [
        "training_data = pd.read_csv('/content/drive/MyDrive/train_E6oV3lV.csv') #to read and store in panda dataframe\n",
        "testing_data = pd.read_csv('/content/drive/MyDrive/test_tweets_anuFYb8.csv') #to read and store in panda dataframe"
      ],
      "metadata": {
        "id": "B5EXDrpbVj3b"
      },
      "execution_count": null,
      "outputs": []
    },
    {
      "cell_type": "code",
      "source": [
        "print(\"Training Set:\"% training_data.columns, training_data.shape)\n",
        "print(\"Test Set:\"% testing_data.columns, testing_data.shape)\n"
      ],
      "metadata": {
        "colab": {
          "base_uri": "https://localhost:8080/"
        },
        "id": "rqJxxbKBV29Z",
        "outputId": "b8d1a7eb-4e45-4b10-ec26-6246c7312f07"
      },
      "execution_count": null,
      "outputs": [
        {
          "output_type": "stream",
          "name": "stdout",
          "text": [
            "Training Set: (31962, 3)\n",
            "Test Set: (17197, 2)\n"
          ]
        }
      ]
    },
    {
      "cell_type": "code",
      "source": [
        "print('Train_Set -----')\n",
        "print(training_data.isnull().sum())\n",
        "print('Test_set -----')\n",
        "print(testing_data.isnull().sum())\n",
        "training_data.head()"
      ],
      "metadata": {
        "colab": {
          "base_uri": "https://localhost:8080/",
          "height": 362
        },
        "id": "5NCPV4kyWB5g",
        "outputId": "60626517-8c29-489e-d9a9-b2799e806302"
      },
      "execution_count": null,
      "outputs": [
        {
          "output_type": "stream",
          "name": "stdout",
          "text": [
            "Train_Set -----\n",
            "id       0\n",
            "label    0\n",
            "tweet    0\n",
            "dtype: int64\n",
            "Test_set -----\n",
            "id       0\n",
            "tweet    0\n",
            "dtype: int64\n"
          ]
        },
        {
          "output_type": "execute_result",
          "data": {
            "text/plain": [
              "   id  label                                              tweet\n",
              "0   1      0   @user when a father is dysfunctional and is s...\n",
              "1   2      0  @user @user thanks for #lyft credit i can't us...\n",
              "2   3      0                                bihday your majesty\n",
              "3   4      0  #model   i love u take with u all the time in ...\n",
              "4   5      0             factsguide: society now    #motivation"
            ],
            "text/html": [
              "\n",
              "  <div id=\"df-1185ddac-5206-49dc-8e86-3d070e7ffc19\">\n",
              "    <div class=\"colab-df-container\">\n",
              "      <div>\n",
              "<style scoped>\n",
              "    .dataframe tbody tr th:only-of-type {\n",
              "        vertical-align: middle;\n",
              "    }\n",
              "\n",
              "    .dataframe tbody tr th {\n",
              "        vertical-align: top;\n",
              "    }\n",
              "\n",
              "    .dataframe thead th {\n",
              "        text-align: right;\n",
              "    }\n",
              "</style>\n",
              "<table border=\"1\" class=\"dataframe\">\n",
              "  <thead>\n",
              "    <tr style=\"text-align: right;\">\n",
              "      <th></th>\n",
              "      <th>id</th>\n",
              "      <th>label</th>\n",
              "      <th>tweet</th>\n",
              "    </tr>\n",
              "  </thead>\n",
              "  <tbody>\n",
              "    <tr>\n",
              "      <th>0</th>\n",
              "      <td>1</td>\n",
              "      <td>0</td>\n",
              "      <td>@user when a father is dysfunctional and is s...</td>\n",
              "    </tr>\n",
              "    <tr>\n",
              "      <th>1</th>\n",
              "      <td>2</td>\n",
              "      <td>0</td>\n",
              "      <td>@user @user thanks for #lyft credit i can't us...</td>\n",
              "    </tr>\n",
              "    <tr>\n",
              "      <th>2</th>\n",
              "      <td>3</td>\n",
              "      <td>0</td>\n",
              "      <td>bihday your majesty</td>\n",
              "    </tr>\n",
              "    <tr>\n",
              "      <th>3</th>\n",
              "      <td>4</td>\n",
              "      <td>0</td>\n",
              "      <td>#model   i love u take with u all the time in ...</td>\n",
              "    </tr>\n",
              "    <tr>\n",
              "      <th>4</th>\n",
              "      <td>5</td>\n",
              "      <td>0</td>\n",
              "      <td>factsguide: society now    #motivation</td>\n",
              "    </tr>\n",
              "  </tbody>\n",
              "</table>\n",
              "</div>\n",
              "      <button class=\"colab-df-convert\" onclick=\"convertToInteractive('df-1185ddac-5206-49dc-8e86-3d070e7ffc19')\"\n",
              "              title=\"Convert this dataframe to an interactive table.\"\n",
              "              style=\"display:none;\">\n",
              "        \n",
              "  <svg xmlns=\"http://www.w3.org/2000/svg\" height=\"24px\"viewBox=\"0 0 24 24\"\n",
              "       width=\"24px\">\n",
              "    <path d=\"M0 0h24v24H0V0z\" fill=\"none\"/>\n",
              "    <path d=\"M18.56 5.44l.94 2.06.94-2.06 2.06-.94-2.06-.94-.94-2.06-.94 2.06-2.06.94zm-11 1L8.5 8.5l.94-2.06 2.06-.94-2.06-.94L8.5 2.5l-.94 2.06-2.06.94zm10 10l.94 2.06.94-2.06 2.06-.94-2.06-.94-.94-2.06-.94 2.06-2.06.94z\"/><path d=\"M17.41 7.96l-1.37-1.37c-.4-.4-.92-.59-1.43-.59-.52 0-1.04.2-1.43.59L10.3 9.45l-7.72 7.72c-.78.78-.78 2.05 0 2.83L4 21.41c.39.39.9.59 1.41.59.51 0 1.02-.2 1.41-.59l7.78-7.78 2.81-2.81c.8-.78.8-2.07 0-2.86zM5.41 20L4 18.59l7.72-7.72 1.47 1.35L5.41 20z\"/>\n",
              "  </svg>\n",
              "      </button>\n",
              "      \n",
              "  <style>\n",
              "    .colab-df-container {\n",
              "      display:flex;\n",
              "      flex-wrap:wrap;\n",
              "      gap: 12px;\n",
              "    }\n",
              "\n",
              "    .colab-df-convert {\n",
              "      background-color: #E8F0FE;\n",
              "      border: none;\n",
              "      border-radius: 50%;\n",
              "      cursor: pointer;\n",
              "      display: none;\n",
              "      fill: #1967D2;\n",
              "      height: 32px;\n",
              "      padding: 0 0 0 0;\n",
              "      width: 32px;\n",
              "    }\n",
              "\n",
              "    .colab-df-convert:hover {\n",
              "      background-color: #E2EBFA;\n",
              "      box-shadow: 0px 1px 2px rgba(60, 64, 67, 0.3), 0px 1px 3px 1px rgba(60, 64, 67, 0.15);\n",
              "      fill: #174EA6;\n",
              "    }\n",
              "\n",
              "    [theme=dark] .colab-df-convert {\n",
              "      background-color: #3B4455;\n",
              "      fill: #D2E3FC;\n",
              "    }\n",
              "\n",
              "    [theme=dark] .colab-df-convert:hover {\n",
              "      background-color: #434B5C;\n",
              "      box-shadow: 0px 1px 3px 1px rgba(0, 0, 0, 0.15);\n",
              "      filter: drop-shadow(0px 1px 2px rgba(0, 0, 0, 0.3));\n",
              "      fill: #FFFFFF;\n",
              "    }\n",
              "  </style>\n",
              "\n",
              "      <script>\n",
              "        const buttonEl =\n",
              "          document.querySelector('#df-1185ddac-5206-49dc-8e86-3d070e7ffc19 button.colab-df-convert');\n",
              "        buttonEl.style.display =\n",
              "          google.colab.kernel.accessAllowed ? 'block' : 'none';\n",
              "\n",
              "        async function convertToInteractive(key) {\n",
              "          const element = document.querySelector('#df-1185ddac-5206-49dc-8e86-3d070e7ffc19');\n",
              "          const dataTable =\n",
              "            await google.colab.kernel.invokeFunction('convertToInteractive',\n",
              "                                                     [key], {});\n",
              "          if (!dataTable) return;\n",
              "\n",
              "          const docLinkHtml = 'Like what you see? Visit the ' +\n",
              "            '<a target=\"_blank\" href=https://colab.research.google.com/notebooks/data_table.ipynb>data table notebook</a>'\n",
              "            + ' to learn more about interactive tables.';\n",
              "          element.innerHTML = '';\n",
              "          dataTable['output_type'] = 'display_data';\n",
              "          await google.colab.output.renderOutput(dataTable, element);\n",
              "          const docLink = document.createElement('div');\n",
              "          docLink.innerHTML = docLinkHtml;\n",
              "          element.appendChild(docLink);\n",
              "        }\n",
              "      </script>\n",
              "    </div>\n",
              "  </div>\n",
              "  "
            ]
          },
          "metadata": {},
          "execution_count": 4
        }
      ]
    },
    {
      "cell_type": "code",
      "source": [
        "training_data['label'].value_counts() #count number of  positive and negative  tweet"
      ],
      "metadata": {
        "colab": {
          "base_uri": "https://localhost:8080/"
        },
        "id": "L8SdnM6TWIIx",
        "outputId": "778972c9-b6da-425e-ee8f-0bccb8b98163"
      },
      "execution_count": null,
      "outputs": [
        {
          "output_type": "execute_result",
          "data": {
            "text/plain": [
              "0    29720\n",
              "1     2242\n",
              "Name: label, dtype: int64"
            ]
          },
          "metadata": {},
          "execution_count": 5
        }
      ]
    },
    {
      "cell_type": "markdown",
      "source": [
        "**Cleaning**"
      ],
      "metadata": {
        "id": "1Oyzc1Xbkixn"
      }
    },
    {
      "cell_type": "code",
      "source": [
        "import re\n",
        "from sklearn.utils import resample\n",
        "import nltk\n",
        "from plotly.offline import download_plotlyjs, init_notebook_mode, plot, iplot\n",
        "from wordcloud import WordCloud, STOPWORDS\n",
        "\n",
        "from nltk.corpus import stopwords\n",
        "nltk.download('stopwords')\n",
        "nltk.download('wordnet')\n",
        "nltk.download('omw-1.4')\n",
        "\n",
        "eng_stops = set(stopwords.words(\"english\"))\n",
        "from nltk.stem import WordNetLemmatizer \n",
        "lemmatizer = WordNetLemmatizer() \n",
        "\n",
        "def cleandata(review_text):\n",
        "    # remove all the special characters\n",
        "    new_review_text = re.sub(r\"(@[A-Za-z0-9]+)|([^0-9A-Za-z \\t])|(\\w+:\\/\\/\\S+)|^rt|http.+?\", \"\", review_text) \n",
        "    # convert all letters to lower case\n",
        "    words = new_review_text.lower().split()\n",
        "    # remove stop words\n",
        "    words = [w for w in words if not w in eng_stops]    \n",
        "    # lemmatizer\n",
        "    words = [lemmatizer.lemmatize(word) for word in words]\n",
        "    # join all words back to text\n",
        "    return (\" \".join(words))\n",
        "\n",
        "training_data['clean_tweet']=training_data['tweet'].apply(lambda x: cleandata(x))\n",
        "\n"
      ],
      "metadata": {
        "colab": {
          "base_uri": "https://localhost:8080/"
        },
        "id": "HP52VlSfXaqM",
        "outputId": "67b02808-b08a-48c4-a27a-bf0584d1c6d4"
      },
      "execution_count": null,
      "outputs": [
        {
          "output_type": "stream",
          "name": "stderr",
          "text": [
            "[nltk_data] Downloading package stopwords to /root/nltk_data...\n",
            "[nltk_data]   Unzipping corpora/stopwords.zip.\n",
            "[nltk_data] Downloading package wordnet to /root/nltk_data...\n",
            "[nltk_data] Downloading package omw-1.4 to /root/nltk_data...\n"
          ]
        }
      ]
    },
    {
      "cell_type": "code",
      "source": [
        "training_data.head()"
      ],
      "metadata": {
        "colab": {
          "base_uri": "https://localhost:8080/",
          "height": 206
        },
        "id": "W5FrSnllfIar",
        "outputId": "4a537b63-8300-45ea-e96b-79ca08e31fac"
      },
      "execution_count": null,
      "outputs": [
        {
          "output_type": "execute_result",
          "data": {
            "text/plain": [
              "   id  label                                              tweet  \\\n",
              "0   1      0   @user when a father is dysfunctional and is s...   \n",
              "1   2      0  @user @user thanks for #lyft credit i can't us...   \n",
              "2   3      0                                bihday your majesty   \n",
              "3   4      0  #model   i love u take with u all the time in ...   \n",
              "4   5      0             factsguide: society now    #motivation   \n",
              "\n",
              "                                         clean_tweet  \n",
              "0  father dysfunctional selfish drag kid dysfunct...  \n",
              "1  thanks lyft credit cant use cause dont offer w...  \n",
              "2                                     bihday majesty  \n",
              "3                        model love u take u time ur  \n",
              "4                      factsguide society motivation  "
            ],
            "text/html": [
              "\n",
              "  <div id=\"df-86df69dd-f0d6-4f6f-a786-284ad824d105\">\n",
              "    <div class=\"colab-df-container\">\n",
              "      <div>\n",
              "<style scoped>\n",
              "    .dataframe tbody tr th:only-of-type {\n",
              "        vertical-align: middle;\n",
              "    }\n",
              "\n",
              "    .dataframe tbody tr th {\n",
              "        vertical-align: top;\n",
              "    }\n",
              "\n",
              "    .dataframe thead th {\n",
              "        text-align: right;\n",
              "    }\n",
              "</style>\n",
              "<table border=\"1\" class=\"dataframe\">\n",
              "  <thead>\n",
              "    <tr style=\"text-align: right;\">\n",
              "      <th></th>\n",
              "      <th>id</th>\n",
              "      <th>label</th>\n",
              "      <th>tweet</th>\n",
              "      <th>clean_tweet</th>\n",
              "    </tr>\n",
              "  </thead>\n",
              "  <tbody>\n",
              "    <tr>\n",
              "      <th>0</th>\n",
              "      <td>1</td>\n",
              "      <td>0</td>\n",
              "      <td>@user when a father is dysfunctional and is s...</td>\n",
              "      <td>father dysfunctional selfish drag kid dysfunct...</td>\n",
              "    </tr>\n",
              "    <tr>\n",
              "      <th>1</th>\n",
              "      <td>2</td>\n",
              "      <td>0</td>\n",
              "      <td>@user @user thanks for #lyft credit i can't us...</td>\n",
              "      <td>thanks lyft credit cant use cause dont offer w...</td>\n",
              "    </tr>\n",
              "    <tr>\n",
              "      <th>2</th>\n",
              "      <td>3</td>\n",
              "      <td>0</td>\n",
              "      <td>bihday your majesty</td>\n",
              "      <td>bihday majesty</td>\n",
              "    </tr>\n",
              "    <tr>\n",
              "      <th>3</th>\n",
              "      <td>4</td>\n",
              "      <td>0</td>\n",
              "      <td>#model   i love u take with u all the time in ...</td>\n",
              "      <td>model love u take u time ur</td>\n",
              "    </tr>\n",
              "    <tr>\n",
              "      <th>4</th>\n",
              "      <td>5</td>\n",
              "      <td>0</td>\n",
              "      <td>factsguide: society now    #motivation</td>\n",
              "      <td>factsguide society motivation</td>\n",
              "    </tr>\n",
              "  </tbody>\n",
              "</table>\n",
              "</div>\n",
              "      <button class=\"colab-df-convert\" onclick=\"convertToInteractive('df-86df69dd-f0d6-4f6f-a786-284ad824d105')\"\n",
              "              title=\"Convert this dataframe to an interactive table.\"\n",
              "              style=\"display:none;\">\n",
              "        \n",
              "  <svg xmlns=\"http://www.w3.org/2000/svg\" height=\"24px\"viewBox=\"0 0 24 24\"\n",
              "       width=\"24px\">\n",
              "    <path d=\"M0 0h24v24H0V0z\" fill=\"none\"/>\n",
              "    <path d=\"M18.56 5.44l.94 2.06.94-2.06 2.06-.94-2.06-.94-.94-2.06-.94 2.06-2.06.94zm-11 1L8.5 8.5l.94-2.06 2.06-.94-2.06-.94L8.5 2.5l-.94 2.06-2.06.94zm10 10l.94 2.06.94-2.06 2.06-.94-2.06-.94-.94-2.06-.94 2.06-2.06.94z\"/><path d=\"M17.41 7.96l-1.37-1.37c-.4-.4-.92-.59-1.43-.59-.52 0-1.04.2-1.43.59L10.3 9.45l-7.72 7.72c-.78.78-.78 2.05 0 2.83L4 21.41c.39.39.9.59 1.41.59.51 0 1.02-.2 1.41-.59l7.78-7.78 2.81-2.81c.8-.78.8-2.07 0-2.86zM5.41 20L4 18.59l7.72-7.72 1.47 1.35L5.41 20z\"/>\n",
              "  </svg>\n",
              "      </button>\n",
              "      \n",
              "  <style>\n",
              "    .colab-df-container {\n",
              "      display:flex;\n",
              "      flex-wrap:wrap;\n",
              "      gap: 12px;\n",
              "    }\n",
              "\n",
              "    .colab-df-convert {\n",
              "      background-color: #E8F0FE;\n",
              "      border: none;\n",
              "      border-radius: 50%;\n",
              "      cursor: pointer;\n",
              "      display: none;\n",
              "      fill: #1967D2;\n",
              "      height: 32px;\n",
              "      padding: 0 0 0 0;\n",
              "      width: 32px;\n",
              "    }\n",
              "\n",
              "    .colab-df-convert:hover {\n",
              "      background-color: #E2EBFA;\n",
              "      box-shadow: 0px 1px 2px rgba(60, 64, 67, 0.3), 0px 1px 3px 1px rgba(60, 64, 67, 0.15);\n",
              "      fill: #174EA6;\n",
              "    }\n",
              "\n",
              "    [theme=dark] .colab-df-convert {\n",
              "      background-color: #3B4455;\n",
              "      fill: #D2E3FC;\n",
              "    }\n",
              "\n",
              "    [theme=dark] .colab-df-convert:hover {\n",
              "      background-color: #434B5C;\n",
              "      box-shadow: 0px 1px 3px 1px rgba(0, 0, 0, 0.15);\n",
              "      filter: drop-shadow(0px 1px 2px rgba(0, 0, 0, 0.3));\n",
              "      fill: #FFFFFF;\n",
              "    }\n",
              "  </style>\n",
              "\n",
              "      <script>\n",
              "        const buttonEl =\n",
              "          document.querySelector('#df-86df69dd-f0d6-4f6f-a786-284ad824d105 button.colab-df-convert');\n",
              "        buttonEl.style.display =\n",
              "          google.colab.kernel.accessAllowed ? 'block' : 'none';\n",
              "\n",
              "        async function convertToInteractive(key) {\n",
              "          const element = document.querySelector('#df-86df69dd-f0d6-4f6f-a786-284ad824d105');\n",
              "          const dataTable =\n",
              "            await google.colab.kernel.invokeFunction('convertToInteractive',\n",
              "                                                     [key], {});\n",
              "          if (!dataTable) return;\n",
              "\n",
              "          const docLinkHtml = 'Like what you see? Visit the ' +\n",
              "            '<a target=\"_blank\" href=https://colab.research.google.com/notebooks/data_table.ipynb>data table notebook</a>'\n",
              "            + ' to learn more about interactive tables.';\n",
              "          element.innerHTML = '';\n",
              "          dataTable['output_type'] = 'display_data';\n",
              "          await google.colab.output.renderOutput(dataTable, element);\n",
              "          const docLink = document.createElement('div');\n",
              "          docLink.innerHTML = docLinkHtml;\n",
              "          element.appendChild(docLink);\n",
              "        }\n",
              "      </script>\n",
              "    </div>\n",
              "  </div>\n",
              "  "
            ]
          },
          "metadata": {},
          "execution_count": 7
        }
      ]
    },
    {
      "cell_type": "markdown",
      "source": [
        "**EDA**"
      ],
      "metadata": {
        "id": "nE6Rv4wfkl9v"
      }
    },
    {
      "cell_type": "code",
      "source": [
        "def createPieChartFor(t_df):\n",
        "    Lst = 100*t_df.value_counts()/len(t_df)\n",
        "    \n",
        "    # set data for pie chart\n",
        "    labels = t_df.value_counts().index.values\n",
        "    sizes =  Lst \n",
        "    \n",
        "    # set labels\n",
        "    fig1, ax1 = plt.subplots()\n",
        "    ax1.pie(sizes, labels=labels, autopct='%1.2f%%', shadow=True, startangle=90)\n",
        "    ax1.axis('equal')  # Equal aspect ratio ensures that pie is drawn as a circle.\n",
        "    plt.show()"
      ],
      "metadata": {
        "id": "AFyV-2bIh4K-"
      },
      "execution_count": null,
      "outputs": []
    },
    {
      "cell_type": "code",
      "source": [
        "createPieChartFor(training_data.label)\n"
      ],
      "metadata": {
        "colab": {
          "base_uri": "https://localhost:8080/",
          "height": 252
        },
        "id": "bOTyPiAWh7KH",
        "outputId": "36fec742-309c-4540-8223-41671379fc23"
      },
      "execution_count": null,
      "outputs": [
        {
          "output_type": "display_data",
          "data": {
            "text/plain": [
              "<Figure size 432x288 with 1 Axes>"
            ],
            "image/png": "[encoded data removed]"
          },
          "metadata": {}
        }
      ]
    },
    {
      "cell_type": "code",
      "source": [
        "from wordcloud import WordCloud\n",
        "import matplotlib.pyplot as plt\n",
        "\n",
        "fig, axs = plt.subplots(1,2 , figsize=(16,8))\n",
        "text_pos = \" \".join(training_data['clean_tweet'][training_data.label == 0])\n",
        "text_neg = \" \".join(training_data['clean_tweet'][training_data.label == 1])\n",
        "train_cloud_pos = WordCloud(collocations = False, background_color = 'white').generate(text_pos)\n",
        "train_cloud_neg = WordCloud(collocations = False, background_color = 'black').generate(text_neg)\n",
        "axs[0].imshow(train_cloud_pos, interpolation='bilinear')\n",
        "axs[0].axis('off')\n",
        "axs[0].set_title('Non-Hate Comments')\n",
        "axs[1].imshow(train_cloud_neg, interpolation='bilinear')\n",
        "axs[1].axis('off')\n",
        "axs[1].set_title('Hate Comments')\n",
        "\n",
        "plt.show()"
      ],
      "metadata": {
        "colab": {
          "base_uri": "https://localhost:8080/",
          "height": 250
        },
        "id": "TlUtB7PoijA1",
        "outputId": "322c36f7-e693-4351-d2fd-62049c3a2de0"
      },
      "execution_count": null,
      "outputs": [
        {
          "output_type": "display_data",
          "data": {
            "text/plain": [
              "<Figure size 1152x576 with 2 Axes>"
            ],
            "image/png": "[encoded data removed]"
          },
          "metadata": {
            "needs_background": "light"
          }
        }
      ]
    },
    {
      "cell_type": "markdown",
      "source": [
        "# **Data Imbalance Handling**"
      ],
      "metadata": {
        "id": "jk-QHKz2jh4Y"
      }
    },
    {
      "cell_type": "markdown",
      "source": [
        "**Upsample**"
      ],
      "metadata": {
        "id": "_dylc7kxkwFF"
      }
    },
    {
      "cell_type": "code",
      "source": [
        "count_non_hate = training_data[training_data['label'] == 0]['clean_tweet'].count()\n",
        "df_hate_speech = training_data[training_data['label'] == 1]\n",
        "df_non_hate_speech = training_data[training_data['label'] == 0]\n",
        "df_hate_speech_oversample = df_hate_speech.sample(count_non_hate, replace=True)\n",
        "training_data_oversampled = pd.concat([df_non_hate_speech, df_hate_speech_oversample], axis=0)\n",
        "\n",
        "print('Random over-sampling:')\n",
        "print(training_data_oversampled['label'].value_counts())"
      ],
      "metadata": {
        "colab": {
          "base_uri": "https://localhost:8080/"
        },
        "id": "X5sdVmvkjpwn",
        "outputId": "7a5fcd41-eee5-437f-8d5f-4846e6f960fc"
      },
      "execution_count": null,
      "outputs": [
        {
          "output_type": "stream",
          "name": "stdout",
          "text": [
            "Random over-sampling:\n",
            "0    29720\n",
            "1    29720\n",
            "Name: label, dtype: int64\n"
          ]
        }
      ]
    },
    {
      "cell_type": "code",
      "source": [
        "training_data_oversampled.shape[0]"
      ],
      "metadata": {
        "colab": {
          "base_uri": "https://localhost:8080/"
        },
        "id": "_ecjkqSHPraC",
        "outputId": "89006646-b055-4b58-b6e1-6102edbfa92a"
      },
      "execution_count": null,
      "outputs": [
        {
          "output_type": "execute_result",
          "data": {
            "text/plain": [
              "59440"
            ]
          },
          "metadata": {},
          "execution_count": 12
        }
      ]
    },
    {
      "cell_type": "code",
      "source": [
        "training_data_oversampled.head()"
      ],
      "metadata": {
        "colab": {
          "base_uri": "https://localhost:8080/",
          "height": 206
        },
        "id": "buWjwPPyRCAf",
        "outputId": "03c7c3b5-3d1a-4ed3-dee0-611baccf2cee"
      },
      "execution_count": null,
      "outputs": [
        {
          "output_type": "execute_result",
          "data": {
            "text/plain": [
              "   id  label                                              tweet  \\\n",
              "0   1      0   @user when a father is dysfunctional and is s...   \n",
              "1   2      0  @user @user thanks for #lyft credit i can't us...   \n",
              "2   3      0                                bihday your majesty   \n",
              "3   4      0  #model   i love u take with u all the time in ...   \n",
              "4   5      0             factsguide: society now    #motivation   \n",
              "\n",
              "                                         clean_tweet  \n",
              "0  father dysfunctional selfish drag kid dysfunct...  \n",
              "1  thanks lyft credit cant use cause dont offer w...  \n",
              "2                                     bihday majesty  \n",
              "3                        model love u take u time ur  \n",
              "4                      factsguide society motivation  "
            ],
            "text/html": [
              "\n",
              "  <div id=\"df-7701d3bd-52d4-4472-86b0-6744efb673af\">\n",
              "    <div class=\"colab-df-container\">\n",
              "      <div>\n",
              "<style scoped>\n",
              "    .dataframe tbody tr th:only-of-type {\n",
              "        vertical-align: middle;\n",
              "    }\n",
              "\n",
              "    .dataframe tbody tr th {\n",
              "        vertical-align: top;\n",
              "    }\n",
              "\n",
              "    .dataframe thead th {\n",
              "        text-align: right;\n",
              "    }\n",
              "</style>\n",
              "<table border=\"1\" class=\"dataframe\">\n",
              "  <thead>\n",
              "    <tr style=\"text-align: right;\">\n",
              "      <th></th>\n",
              "      <th>id</th>\n",
              "      <th>label</th>\n",
              "      <th>tweet</th>\n",
              "      <th>clean_tweet</th>\n",
              "    </tr>\n",
              "  </thead>\n",
              "  <tbody>\n",
              "    <tr>\n",
              "      <th>0</th>\n",
              "      <td>1</td>\n",
              "      <td>0</td>\n",
              "      <td>@user when a father is dysfunctional and is s...</td>\n",
              "      <td>father dysfunctional selfish drag kid dysfunct...</td>\n",
              "    </tr>\n",
              "    <tr>\n",
              "      <th>1</th>\n",
              "      <td>2</td>\n",
              "      <td>0</td>\n",
              "      <td>@user @user thanks for #lyft credit i can't us...</td>\n",
              "      <td>thanks lyft credit cant use cause dont offer w...</td>\n",
              "    </tr>\n",
              "    <tr>\n",
              "      <th>2</th>\n",
              "      <td>3</td>\n",
              "      <td>0</td>\n",
              "      <td>bihday your majesty</td>\n",
              "      <td>bihday majesty</td>\n",
              "    </tr>\n",
              "    <tr>\n",
              "      <th>3</th>\n",
              "      <td>4</td>\n",
              "      <td>0</td>\n",
              "      <td>#model   i love u take with u all the time in ...</td>\n",
              "      <td>model love u take u time ur</td>\n",
              "    </tr>\n",
              "    <tr>\n",
              "      <th>4</th>\n",
              "      <td>5</td>\n",
              "      <td>0</td>\n",
              "      <td>factsguide: society now    #motivation</td>\n",
              "      <td>factsguide society motivation</td>\n",
              "    </tr>\n",
              "  </tbody>\n",
              "</table>\n",
              "</div>\n",
              "      <button class=\"colab-df-convert\" onclick=\"convertToInteractive('df-7701d3bd-52d4-4472-86b0-6744efb673af')\"\n",
              "              title=\"Convert this dataframe to an interactive table.\"\n",
              "              style=\"display:none;\">\n",
              "        \n",
              "  <svg xmlns=\"http://www.w3.org/2000/svg\" height=\"24px\"viewBox=\"0 0 24 24\"\n",
              "       width=\"24px\">\n",
              "    <path d=\"M0 0h24v24H0V0z\" fill=\"none\"/>\n",
              "    <path d=\"M18.56 5.44l.94 2.06.94-2.06 2.06-.94-2.06-.94-.94-2.06-.94 2.06-2.06.94zm-11 1L8.5 8.5l.94-2.06 2.06-.94-2.06-.94L8.5 2.5l-.94 2.06-2.06.94zm10 10l.94 2.06.94-2.06 2.06-.94-2.06-.94-.94-2.06-.94 2.06-2.06.94z\"/><path d=\"M17.41 7.96l-1.37-1.37c-.4-.4-.92-.59-1.43-.59-.52 0-1.04.2-1.43.59L10.3 9.45l-7.72 7.72c-.78.78-.78 2.05 0 2.83L4 21.41c.39.39.9.59 1.41.59.51 0 1.02-.2 1.41-.59l7.78-7.78 2.81-2.81c.8-.78.8-2.07 0-2.86zM5.41 20L4 18.59l7.72-7.72 1.47 1.35L5.41 20z\"/>\n",
              "  </svg>\n",
              "      </button>\n",
              "      \n",
              "  <style>\n",
              "    .colab-df-container {\n",
              "      display:flex;\n",
              "      flex-wrap:wrap;\n",
              "      gap: 12px;\n",
              "    }\n",
              "\n",
              "    .colab-df-convert {\n",
              "      background-color: #E8F0FE;\n",
              "      border: none;\n",
              "      border-radius: 50%;\n",
              "      cursor: pointer;\n",
              "      display: none;\n",
              "      fill: #1967D2;\n",
              "      height: 32px;\n",
              "      padding: 0 0 0 0;\n",
              "      width: 32px;\n",
              "    }\n",
              "\n",
              "    .colab-df-convert:hover {\n",
              "      background-color: #E2EBFA;\n",
              "      box-shadow: 0px 1px 2px rgba(60, 64, 67, 0.3), 0px 1px 3px 1px rgba(60, 64, 67, 0.15);\n",
              "      fill: #174EA6;\n",
              "    }\n",
              "\n",
              "    [theme=dark] .colab-df-convert {\n",
              "      background-color: #3B4455;\n",
              "      fill: #D2E3FC;\n",
              "    }\n",
              "\n",
              "    [theme=dark] .colab-df-convert:hover {\n",
              "      background-color: #434B5C;\n",
              "      box-shadow: 0px 1px 3px 1px rgba(0, 0, 0, 0.15);\n",
              "      filter: drop-shadow(0px 1px 2px rgba(0, 0, 0, 0.3));\n",
              "      fill: #FFFFFF;\n",
              "    }\n",
              "  </style>\n",
              "\n",
              "      <script>\n",
              "        const buttonEl =\n",
              "          document.querySelector('#df-7701d3bd-52d4-4472-86b0-6744efb673af button.colab-df-convert');\n",
              "        buttonEl.style.display =\n",
              "          google.colab.kernel.accessAllowed ? 'block' : 'none';\n",
              "\n",
              "        async function convertToInteractive(key) {\n",
              "          const element = document.querySelector('#df-7701d3bd-52d4-4472-86b0-6744efb673af');\n",
              "          const dataTable =\n",
              "            await google.colab.kernel.invokeFunction('convertToInteractive',\n",
              "                                                     [key], {});\n",
              "          if (!dataTable) return;\n",
              "\n",
              "          const docLinkHtml = 'Like what you see? Visit the ' +\n",
              "            '<a target=\"_blank\" href=https://colab.research.google.com/notebooks/data_table.ipynb>data table notebook</a>'\n",
              "            + ' to learn more about interactive tables.';\n",
              "          element.innerHTML = '';\n",
              "          dataTable['output_type'] = 'display_data';\n",
              "          await google.colab.output.renderOutput(dataTable, element);\n",
              "          const docLink = document.createElement('div');\n",
              "          docLink.innerHTML = docLinkHtml;\n",
              "          element.appendChild(docLink);\n",
              "        }\n",
              "      </script>\n",
              "    </div>\n",
              "  </div>\n",
              "  "
            ]
          },
          "metadata": {},
          "execution_count": 13
        }
      ]
    },
    {
      "cell_type": "code",
      "source": [
        "!pip install catboost\n",
        "from catboost import CatBoostClassifier\n",
        "from sklearn.tree import DecisionTreeClassifier\n",
        "from sklearn.naive_bayes import MultinomialNB,ComplementNB,BernoulliNB\n",
        "from sklearn.ensemble import RandomForestClassifier,ExtraTreesClassifier,BaggingClassifier,AdaBoostClassifier,GradientBoostingClassifier\n",
        "from sklearn.neighbors import KNeighborsClassifier\n",
        "from sklearn.linear_model import LogisticRegression,SGDClassifier, RidgeClassifier,Lasso\n",
        "from xgboost import XGBClassifier\n",
        "from sklearn.svm import LinearSVC,SVC,NuSVC\n",
        "\n",
        "from sklearn.metrics import accuracy_score, classification_report\n",
        "import numpy as np\n",
        "from sklearn.feature_extraction.text import TfidfVectorizer\n",
        "from sklearn.pipeline import Pipeline\n",
        "from sklearn.feature_extraction.text import CountVectorizer\n",
        "from sklearn.feature_extraction.text import TfidfTransformer\n",
        "from sklearn.metrics import f1_score, accuracy_score\n",
        "from sklearn.model_selection import train_test_split, RepeatedStratifiedKFold, cross_val_score\n",
        "\n",
        "from sklearn.multiclass import OneVsRestClassifier\n",
        "\n",
        "\n"
      ],
      "metadata": {
        "colab": {
          "base_uri": "https://localhost:8080/"
        },
        "id": "5gTDbPVeR_Di",
        "outputId": "9bcfb9ac-dbca-49c2-ea28-618c170ab80d"
      },
      "execution_count": null,
      "outputs": [
        {
          "output_type": "stream",
          "name": "stdout",
          "text": [
            "Looking in indexes: https://pypi.org/simple, https://us-python.pkg.dev/colab-wheels/public/simple/\n",
            "Collecting catboost\n",
            "  Downloading catboost-1.0.6-cp37-none-manylinux1_x86_64.whl (76.6 MB)\n",
            "\u001b[K     |████████████████████████████████| 76.6 MB 153 kB/s \n",
            "\u001b[?25hRequirement already satisfied: graphviz in /usr/local/lib/python3.7/dist-packages (from catboost) (0.10.1)\n",
            "Requirement already satisfied: numpy>=1.16.0 in /usr/local/lib/python3.7/dist-packages (from catboost) (1.21.6)\n",
            "Requirement already satisfied: scipy in /usr/local/lib/python3.7/dist-packages (from catboost) (1.7.3)\n",
            "Requirement already satisfied: pandas>=0.24.0 in /usr/local/lib/python3.7/dist-packages (from catboost) (1.3.5)\n",
            "Requirement already satisfied: six in /usr/local/lib/python3.7/dist-packages (from catboost) (1.15.0)\n",
            "Requirement already satisfied: plotly in /usr/local/lib/python3.7/dist-packages (from catboost) (5.5.0)\n",
            "Requirement already satisfied: matplotlib in /usr/local/lib/python3.7/dist-packages (from catboost) (3.2.2)\n",
            "Requirement already satisfied: python-dateutil>=2.7.3 in /usr/local/lib/python3.7/dist-packages (from pandas>=0.24.0->catboost) (2.8.2)\n",
            "Requirement already satisfied: pytz>=2017.3 in /usr/local/lib/python3.7/dist-packages (from pandas>=0.24.0->catboost) (2022.2.1)\n",
            "Requirement already satisfied: cycler>=0.10 in /usr/local/lib/python3.7/dist-packages (from matplotlib->catboost) (0.11.0)\n",
            "Requirement already satisfied: kiwisolver>=1.0.1 in /usr/local/lib/python3.7/dist-packages (from matplotlib->catboost) (1.4.4)\n",
            "Requirement already satisfied: pyparsing!=2.0.4,!=2.1.2,!=2.1.6,>=2.0.1 in /usr/local/lib/python3.7/dist-packages (from matplotlib->catboost) (3.0.9)\n",
            "Requirement already satisfied: typing-extensions in /usr/local/lib/python3.7/dist-packages (from kiwisolver>=1.0.1->matplotlib->catboost) (4.1.1)\n",
            "Requirement already satisfied: tenacity>=6.2.0 in /usr/local/lib/python3.7/dist-packages (from plotly->catboost) (8.0.1)\n",
            "Installing collected packages: catboost\n",
            "Successfully installed catboost-1.0.6\n"
          ]
        }
      ]
    },
    {
      "cell_type": "markdown",
      "source": [
        "# **Text Classification with ML Models: LogisticRegression, MultinomialNB, DecisionTreeClassifier, RandomForestClassifier, KNeighborsClassifier, XGBClassifier, Liner SVC, SVC, SGDClassifier, Bagging Classifier**"
      ],
      "metadata": {
        "id": "AdbkRGjWncOJ"
      }
    },
    {
      "cell_type": "markdown",
      "source": [
        "# **TF-IDF Vectorization**"
      ],
      "metadata": {
        "id": "ECVl6dw8AvQ_"
      }
    },
    {
      "cell_type": "code",
      "source": [
        "from sklearn.model_selection import train_test_split\n",
        "train_df, test_df =  train_test_split(training_data_oversampled, test_size = 0.2, random_state = 42)\n",
        "vectorizer = TfidfVectorizer()\n",
        "train_tfidf_model = vectorizer.fit_transform(train_df.clean_tweet)\n",
        "test_tfidf_model = vectorizer.transform(test_df.clean_tweet)\n",
        "train_tfidf = pd.DataFrame(train_tfidf_model)"
      ],
      "metadata": {
        "id": "nyIPYoQQRV6_"
      },
      "execution_count": null,
      "outputs": []
    },
    {
      "cell_type": "code",
      "source": [
        "cls = [CatBoostClassifier(verbose=0),\n",
        "    \n",
        "       DecisionTreeClassifier(),\n",
        "\n",
        "       MultinomialNB(), \n",
        "       ComplementNB(),\n",
        "       BernoulliNB(),\n",
        "\n",
        "       RandomForestClassifier(n_estimators=200),\n",
        "       ExtraTreesClassifier(n_estimators=200),\n",
        "       BaggingClassifier(n_estimators=20),\n",
        "       AdaBoostClassifier(n_estimators=100),\n",
        "       GradientBoostingClassifier(n_estimators=200),\n",
        "\n",
        "       KNeighborsClassifier(),\n",
        "\n",
        "       LogisticRegression(),\n",
        "       LogisticRegression(C=1, penalty='l1', solver='liblinear'), #Lasso\n",
        "       SGDClassifier(),\n",
        "\n",
        "       XGBClassifier(random_state=22,learning_rate=0.9),\n",
        "       \n",
        "       LinearSVC(),\n",
        "       OneVsRestClassifier(BaggingClassifier(SVC(kernel='linear', class_weight='balanced'), max_samples=1.0 / 10))\n",
        "       ]\n",
        "\n",
        "cls_name = []\n",
        "\n",
        "lbl_actual = test_df.label\n",
        "i = 0\n",
        "accuracy = []\n",
        "for cl in cls:\n",
        "    model = cl.fit(train_tfidf_model,train_df.label)\n",
        "    lbl_pred = model.predict(test_tfidf_model)\n",
        "    a = (100*accuracy_score(lbl_pred, lbl_actual))\n",
        "    a = round(a,2)\n",
        "    accuracy.append(a)\n",
        "    cls_name.append(cl.__class__.__name__)\n",
        "    print (\"{}  Accuracy Score : {}%\".format(cls_name[i],a))\n",
        "    print ( classification_report(lbl_pred, lbl_actual))\n",
        "    i +=1"
      ],
      "metadata": {
        "id": "InjnzPRdR0Ln",
        "colab": {
          "base_uri": "https://localhost:8080/"
        },
        "outputId": "c0b472cd-65c9-4a02-a931-e37b21bcb1d3"
      },
      "execution_count": null,
      "outputs": [
        {
          "output_type": "stream",
          "name": "stdout",
          "text": [
            "CatBoostClassifier  Accuracy Score : 97.04%\n",
            "              precision    recall  f1-score   support\n",
            "\n",
            "           0       0.95      0.99      0.97      5676\n",
            "           1       0.99      0.96      0.97      6212\n",
            "\n",
            "    accuracy                           0.97     11888\n",
            "   macro avg       0.97      0.97      0.97     11888\n",
            "weighted avg       0.97      0.97      0.97     11888\n",
            "\n",
            "DecisionTreeClassifier  Accuracy Score : 95.21%\n",
            "              precision    recall  f1-score   support\n",
            "\n",
            "           0       0.90      1.00      0.95      5311\n",
            "           1       1.00      0.91      0.95      6577\n",
            "\n",
            "    accuracy                           0.95     11888\n",
            "   macro avg       0.95      0.96      0.95     11888\n",
            "weighted avg       0.96      0.95      0.95     11888\n",
            "\n",
            "MultinomialNB  Accuracy Score : 95.47%\n",
            "              precision    recall  f1-score   support\n",
            "\n",
            "           0       0.92      0.99      0.95      5506\n",
            "           1       0.99      0.93      0.96      6382\n",
            "\n",
            "    accuracy                           0.95     11888\n",
            "   macro avg       0.95      0.96      0.95     11888\n",
            "weighted avg       0.96      0.95      0.95     11888\n",
            "\n",
            "ComplementNB  Accuracy Score : 95.5%\n",
            "              precision    recall  f1-score   support\n",
            "\n",
            "           0       0.92      0.99      0.95      5501\n",
            "           1       0.99      0.93      0.96      6387\n",
            "\n",
            "    accuracy                           0.95     11888\n",
            "   macro avg       0.95      0.96      0.95     11888\n",
            "weighted avg       0.96      0.95      0.96     11888\n",
            "\n",
            "BernoulliNB  Accuracy Score : 95.96%\n",
            "              precision    recall  f1-score   support\n",
            "\n",
            "           0       0.94      0.97      0.96      5706\n",
            "           1       0.97      0.95      0.96      6182\n",
            "\n",
            "    accuracy                           0.96     11888\n",
            "   macro avg       0.96      0.96      0.96     11888\n",
            "weighted avg       0.96      0.96      0.96     11888\n",
            "\n",
            "RandomForestClassifier  Accuracy Score : 98.67%\n",
            "              precision    recall  f1-score   support\n",
            "\n",
            "           0       0.97      1.00      0.99      5722\n",
            "           1       1.00      0.97      0.99      6166\n",
            "\n",
            "    accuracy                           0.99     11888\n",
            "   macro avg       0.99      0.99      0.99     11888\n",
            "weighted avg       0.99      0.99      0.99     11888\n",
            "\n",
            "ExtraTreesClassifier  Accuracy Score : 99.13%\n",
            "              precision    recall  f1-score   support\n",
            "\n",
            "           0       0.98      1.00      0.99      5777\n",
            "           1       1.00      0.98      0.99      6111\n",
            "\n",
            "    accuracy                           0.99     11888\n",
            "   macro avg       0.99      0.99      0.99     11888\n",
            "weighted avg       0.99      0.99      0.99     11888\n",
            "\n",
            "BaggingClassifier  Accuracy Score : 95.71%\n",
            "              precision    recall  f1-score   support\n",
            "\n",
            "           0       0.91      1.00      0.95      5370\n",
            "           1       1.00      0.92      0.96      6518\n",
            "\n",
            "    accuracy                           0.96     11888\n",
            "   macro avg       0.96      0.96      0.96     11888\n",
            "weighted avg       0.96      0.96      0.96     11888\n",
            "\n",
            "AdaBoostClassifier  Accuracy Score : 81.91%\n",
            "              precision    recall  f1-score   support\n",
            "\n",
            "           0       0.93      0.76      0.84      7229\n",
            "           1       0.71      0.91      0.80      4659\n",
            "\n",
            "    accuracy                           0.82     11888\n",
            "   macro avg       0.82      0.84      0.82     11888\n",
            "weighted avg       0.84      0.82      0.82     11888\n",
            "\n",
            "GradientBoostingClassifier  Accuracy Score : 84.69%\n",
            "              precision    recall  f1-score   support\n",
            "\n",
            "           0       0.94      0.79      0.86      7022\n",
            "           1       0.75      0.93      0.83      4866\n",
            "\n",
            "    accuracy                           0.85     11888\n",
            "   macro avg       0.85      0.86      0.85     11888\n",
            "weighted avg       0.87      0.85      0.85     11888\n",
            "\n",
            "KNeighborsClassifier  Accuracy Score : 78.52%\n",
            "              precision    recall  f1-score   support\n",
            "\n",
            "           0       0.57      1.00      0.72      3338\n",
            "           1       1.00      0.70      0.82      8550\n",
            "\n",
            "    accuracy                           0.79     11888\n",
            "   macro avg       0.78      0.85      0.77     11888\n",
            "weighted avg       0.88      0.79      0.80     11888\n",
            "\n",
            "LogisticRegression  Accuracy Score : 97.63%\n",
            "              precision    recall  f1-score   support\n",
            "\n",
            "           0       0.96      0.99      0.98      5686\n",
            "           1       0.99      0.96      0.98      6202\n",
            "\n",
            "    accuracy                           0.98     11888\n",
            "   macro avg       0.98      0.98      0.98     11888\n",
            "weighted avg       0.98      0.98      0.98     11888\n",
            "\n",
            "LogisticRegression  Accuracy Score : 97.66%\n",
            "              precision    recall  f1-score   support\n",
            "\n",
            "           0       0.96      0.99      0.98      5698\n",
            "           1       0.99      0.96      0.98      6190\n",
            "\n",
            "    accuracy                           0.98     11888\n",
            "   macro avg       0.98      0.98      0.98     11888\n",
            "weighted avg       0.98      0.98      0.98     11888\n",
            "\n",
            "SGDClassifier  Accuracy Score : 97.14%\n",
            "              precision    recall  f1-score   support\n",
            "\n",
            "           0       0.96      0.98      0.97      5730\n",
            "           1       0.98      0.96      0.97      6158\n",
            "\n",
            "    accuracy                           0.97     11888\n",
            "   macro avg       0.97      0.97      0.97     11888\n",
            "weighted avg       0.97      0.97      0.97     11888\n",
            "\n",
            "XGBClassifier  Accuracy Score : 90.82%\n",
            "              precision    recall  f1-score   support\n",
            "\n",
            "           0       0.93      0.89      0.91      6183\n",
            "           1       0.88      0.93      0.91      5705\n",
            "\n",
            "    accuracy                           0.91     11888\n",
            "   macro avg       0.91      0.91      0.91     11888\n",
            "weighted avg       0.91      0.91      0.91     11888\n",
            "\n",
            "LinearSVC  Accuracy Score : 98.54%\n",
            "              precision    recall  f1-score   support\n",
            "\n",
            "           0       0.97      1.00      0.99      5734\n",
            "           1       1.00      0.97      0.99      6154\n",
            "\n",
            "    accuracy                           0.99     11888\n",
            "   macro avg       0.99      0.99      0.99     11888\n",
            "weighted avg       0.99      0.99      0.99     11888\n",
            "\n",
            "OneVsRestClassifier  Accuracy Score : 95.44%\n",
            "              precision    recall  f1-score   support\n",
            "\n",
            "           0       0.94      0.97      0.95      5692\n",
            "           1       0.97      0.94      0.96      6196\n",
            "\n",
            "    accuracy                           0.95     11888\n",
            "   macro avg       0.95      0.95      0.95     11888\n",
            "weighted avg       0.95      0.95      0.95     11888\n",
            "\n"
          ]
        }
      ]
    },
    {
      "cell_type": "code",
      "source": [
        "plt.bar(cls_name, accuracy)\n",
        "plt.xticks(rotation=70)"
      ],
      "metadata": {
        "id": "3zxaC29ISJrf",
        "colab": {
          "base_uri": "https://localhost:8080/",
          "height": 419
        },
        "outputId": "cc2266cb-e3b6-4083-d40f-e413a707e302"
      },
      "execution_count": null,
      "outputs": [
        {
          "output_type": "execute_result",
          "data": {
            "text/plain": [
              "([0, 1, 2, 3, 4, 5, 6, 7, 8, 9, 10, 11, 12, 13, 14, 15],\n",
              " <a list of 16 Text major ticklabel objects>)"
            ]
          },
          "metadata": {},
          "execution_count": 17
        },
        {
          "output_type": "display_data",
          "data": {
            "text/plain": [
              "<Figure size 432x288 with 1 Axes>"
            ],
            "image/png": "[encoded data removed]"
          },
          "metadata": {
            "needs_background": "light"
          }
        }
      ]
    },
    {
      "cell_type": "markdown",
      "source": [
        "# **Word2Vec Vectorization (training from scratch)**"
      ],
      "metadata": {
        "id": "cyoMlRAwC9hC"
      }
    },
    {
      "cell_type": "code",
      "source": [
        "!pip install gensim==4.1.2\n",
        "import gensim\n",
        "import nltk\n",
        "nltk.download('punkt')\n",
        "from gensim.models import Word2Vec,KeyedVectors\n",
        "\n",
        "# gensim.models.Word2Vec func has sg=1 for skip gram sg=0 for cbow\n",
        "# two methods for getting embeddings w2v_model = gensim.models.Word2Vec(X_train,vector_size=100,window=5,min_count=2) and \n",
        "# wv = gensim.models.KeyedVectors.load_word2vec_format(\"GoogleNews-vectors-negative300.bin.gz\", binary=True) wv.init_sims(replace=True) normalization\n",
        "\n",
        "training_data_oversampled['tokenized'] = training_data_oversampled['clean_tweet'].apply(lambda x: gensim.utils.simple_preprocess(x))\n",
        "training_data_oversampled.head()\n"
      ],
      "metadata": {
        "id": "uT07ygccDFiY",
        "colab": {
          "base_uri": "https://localhost:8080/",
          "height": 467
        },
        "outputId": "2664b8a6-87a6-4f1e-b381-adf5b893697d"
      },
      "execution_count": null,
      "outputs": [
        {
          "output_type": "stream",
          "name": "stdout",
          "text": [
            "Looking in indexes: https://pypi.org/simple, https://us-python.pkg.dev/colab-wheels/public/simple/\n",
            "Collecting gensim==4.1.2\n",
            "  Downloading gensim-4.1.2-cp37-cp37m-manylinux_2_12_x86_64.manylinux2010_x86_64.whl (24.1 MB)\n",
            "\u001b[K     |████████████████████████████████| 24.1 MB 1.2 MB/s \n",
            "\u001b[?25hRequirement already satisfied: numpy>=1.17.0 in /usr/local/lib/python3.7/dist-packages (from gensim==4.1.2) (1.21.6)\n",
            "Requirement already satisfied: smart-open>=1.8.1 in /usr/local/lib/python3.7/dist-packages (from gensim==4.1.2) (5.2.1)\n",
            "Requirement already satisfied: scipy>=0.18.1 in /usr/local/lib/python3.7/dist-packages (from gensim==4.1.2) (1.7.3)\n",
            "Installing collected packages: gensim\n",
            "  Attempting uninstall: gensim\n",
            "    Found existing installation: gensim 3.6.0\n",
            "    Uninstalling gensim-3.6.0:\n",
            "      Successfully uninstalled gensim-3.6.0\n",
            "Successfully installed gensim-4.1.2\n"
          ]
        },
        {
          "output_type": "stream",
          "name": "stderr",
          "text": [
            "[nltk_data] Downloading package punkt to /root/nltk_data...\n",
            "[nltk_data]   Unzipping tokenizers/punkt.zip.\n"
          ]
        },
        {
          "output_type": "execute_result",
          "data": {
            "text/plain": [
              "   id  label                                              tweet  \\\n",
              "0   1      0   @user when a father is dysfunctional and is s...   \n",
              "1   2      0  @user @user thanks for #lyft credit i can't us...   \n",
              "2   3      0                                bihday your majesty   \n",
              "3   4      0  #model   i love u take with u all the time in ...   \n",
              "4   5      0             factsguide: society now    #motivation   \n",
              "\n",
              "                                         clean_tweet  \\\n",
              "0  father dysfunctional selfish drag kid dysfunct...   \n",
              "1  thanks lyft credit cant use cause dont offer w...   \n",
              "2                                     bihday majesty   \n",
              "3                        model love u take u time ur   \n",
              "4                      factsguide society motivation   \n",
              "\n",
              "                                           tokenized  \n",
              "0  [father, dysfunctional, selfish, drag, kid, dy...  \n",
              "1  [thanks, lyft, credit, cant, use, cause, dont,...  \n",
              "2                                  [bihday, majesty]  \n",
              "3                      [model, love, take, time, ur]  \n",
              "4                  [factsguide, society, motivation]  "
            ],
            "text/html": [
              "\n",
              "  <div id=\"df-e11d8dbe-2c4b-442b-82c2-ab78d4afc283\">\n",
              "    <div class=\"colab-df-container\">\n",
              "      <div>\n",
              "<style scoped>\n",
              "    .dataframe tbody tr th:only-of-type {\n",
              "        vertical-align: middle;\n",
              "    }\n",
              "\n",
              "    .dataframe tbody tr th {\n",
              "        vertical-align: top;\n",
              "    }\n",
              "\n",
              "    .dataframe thead th {\n",
              "        text-align: right;\n",
              "    }\n",
              "</style>\n",
              "<table border=\"1\" class=\"dataframe\">\n",
              "  <thead>\n",
              "    <tr style=\"text-align: right;\">\n",
              "      <th></th>\n",
              "      <th>id</th>\n",
              "      <th>label</th>\n",
              "      <th>tweet</th>\n",
              "      <th>clean_tweet</th>\n",
              "      <th>tokenized</th>\n",
              "    </tr>\n",
              "  </thead>\n",
              "  <tbody>\n",
              "    <tr>\n",
              "      <th>0</th>\n",
              "      <td>1</td>\n",
              "      <td>0</td>\n",
              "      <td>@user when a father is dysfunctional and is s...</td>\n",
              "      <td>father dysfunctional selfish drag kid dysfunct...</td>\n",
              "      <td>[father, dysfunctional, selfish, drag, kid, dy...</td>\n",
              "    </tr>\n",
              "    <tr>\n",
              "      <th>1</th>\n",
              "      <td>2</td>\n",
              "      <td>0</td>\n",
              "      <td>@user @user thanks for #lyft credit i can't us...</td>\n",
              "      <td>thanks lyft credit cant use cause dont offer w...</td>\n",
              "      <td>[thanks, lyft, credit, cant, use, cause, dont,...</td>\n",
              "    </tr>\n",
              "    <tr>\n",
              "      <th>2</th>\n",
              "      <td>3</td>\n",
              "      <td>0</td>\n",
              "      <td>bihday your majesty</td>\n",
              "      <td>bihday majesty</td>\n",
              "      <td>[bihday, majesty]</td>\n",
              "    </tr>\n",
              "    <tr>\n",
              "      <th>3</th>\n",
              "      <td>4</td>\n",
              "      <td>0</td>\n",
              "      <td>#model   i love u take with u all the time in ...</td>\n",
              "      <td>model love u take u time ur</td>\n",
              "      <td>[model, love, take, time, ur]</td>\n",
              "    </tr>\n",
              "    <tr>\n",
              "      <th>4</th>\n",
              "      <td>5</td>\n",
              "      <td>0</td>\n",
              "      <td>factsguide: society now    #motivation</td>\n",
              "      <td>factsguide society motivation</td>\n",
              "      <td>[factsguide, society, motivation]</td>\n",
              "    </tr>\n",
              "  </tbody>\n",
              "</table>\n",
              "</div>\n",
              "      <button class=\"colab-df-convert\" onclick=\"convertToInteractive('df-e11d8dbe-2c4b-442b-82c2-ab78d4afc283')\"\n",
              "              title=\"Convert this dataframe to an interactive table.\"\n",
              "              style=\"display:none;\">\n",
              "        \n",
              "  <svg xmlns=\"http://www.w3.org/2000/svg\" height=\"24px\"viewBox=\"0 0 24 24\"\n",
              "       width=\"24px\">\n",
              "    <path d=\"M0 0h24v24H0V0z\" fill=\"none\"/>\n",
              "    <path d=\"M18.56 5.44l.94 2.06.94-2.06 2.06-.94-2.06-.94-.94-2.06-.94 2.06-2.06.94zm-11 1L8.5 8.5l.94-2.06 2.06-.94-2.06-.94L8.5 2.5l-.94 2.06-2.06.94zm10 10l.94 2.06.94-2.06 2.06-.94-2.06-.94-.94-2.06-.94 2.06-2.06.94z\"/><path d=\"M17.41 7.96l-1.37-1.37c-.4-.4-.92-.59-1.43-.59-.52 0-1.04.2-1.43.59L10.3 9.45l-7.72 7.72c-.78.78-.78 2.05 0 2.83L4 21.41c.39.39.9.59 1.41.59.51 0 1.02-.2 1.41-.59l7.78-7.78 2.81-2.81c.8-.78.8-2.07 0-2.86zM5.41 20L4 18.59l7.72-7.72 1.47 1.35L5.41 20z\"/>\n",
              "  </svg>\n",
              "      </button>\n",
              "      \n",
              "  <style>\n",
              "    .colab-df-container {\n",
              "      display:flex;\n",
              "      flex-wrap:wrap;\n",
              "      gap: 12px;\n",
              "    }\n",
              "\n",
              "    .colab-df-convert {\n",
              "      background-color: #E8F0FE;\n",
              "      border: none;\n",
              "      border-radius: 50%;\n",
              "      cursor: pointer;\n",
              "      display: none;\n",
              "      fill: #1967D2;\n",
              "      height: 32px;\n",
              "      padding: 0 0 0 0;\n",
              "      width: 32px;\n",
              "    }\n",
              "\n",
              "    .colab-df-convert:hover {\n",
              "      background-color: #E2EBFA;\n",
              "      box-shadow: 0px 1px 2px rgba(60, 64, 67, 0.3), 0px 1px 3px 1px rgba(60, 64, 67, 0.15);\n",
              "      fill: #174EA6;\n",
              "    }\n",
              "\n",
              "    [theme=dark] .colab-df-convert {\n",
              "      background-color: #3B4455;\n",
              "      fill: #D2E3FC;\n",
              "    }\n",
              "\n",
              "    [theme=dark] .colab-df-convert:hover {\n",
              "      background-color: #434B5C;\n",
              "      box-shadow: 0px 1px 3px 1px rgba(0, 0, 0, 0.15);\n",
              "      filter: drop-shadow(0px 1px 2px rgba(0, 0, 0, 0.3));\n",
              "      fill: #FFFFFF;\n",
              "    }\n",
              "  </style>\n",
              "\n",
              "      <script>\n",
              "        const buttonEl =\n",
              "          document.querySelector('#df-e11d8dbe-2c4b-442b-82c2-ab78d4afc283 button.colab-df-convert');\n",
              "        buttonEl.style.display =\n",
              "          google.colab.kernel.accessAllowed ? 'block' : 'none';\n",
              "\n",
              "        async function convertToInteractive(key) {\n",
              "          const element = document.querySelector('#df-e11d8dbe-2c4b-442b-82c2-ab78d4afc283');\n",
              "          const dataTable =\n",
              "            await google.colab.kernel.invokeFunction('convertToInteractive',\n",
              "                                                     [key], {});\n",
              "          if (!dataTable) return;\n",
              "\n",
              "          const docLinkHtml = 'Like what you see? Visit the ' +\n",
              "            '<a target=\"_blank\" href=https://colab.research.google.com/notebooks/data_table.ipynb>data table notebook</a>'\n",
              "            + ' to learn more about interactive tables.';\n",
              "          element.innerHTML = '';\n",
              "          dataTable['output_type'] = 'display_data';\n",
              "          await google.colab.output.renderOutput(dataTable, element);\n",
              "          const docLink = document.createElement('div');\n",
              "          docLink.innerHTML = docLinkHtml;\n",
              "          element.appendChild(docLink);\n",
              "        }\n",
              "      </script>\n",
              "    </div>\n",
              "  </div>\n",
              "  "
            ]
          },
          "metadata": {},
          "execution_count": 18
        }
      ]
    },
    {
      "cell_type": "code",
      "source": [
        "X_train, X_test, y_train, y_test = train_test_split (training_data_oversampled['tokenized'], training_data_oversampled['label'] , test_size=0.2)"
      ],
      "metadata": {
        "id": "jZAYcINJxLLj"
      },
      "execution_count": null,
      "outputs": []
    },
    {
      "cell_type": "code",
      "source": [
        "w2v_model = gensim.models.Word2Vec(X_train,\n",
        "                                   vector_size=100,\n",
        "                                   window=5,\n",
        "                                   min_count=2,\n",
        "                                   sg=1)"
      ],
      "metadata": {
        "id": "VP6uZVhTwXKD"
      },
      "execution_count": null,
      "outputs": []
    },
    {
      "cell_type": "code",
      "source": [
        "words = set(w2v_model.wv.index_to_key )\n",
        "X_train_vect = np.array([np.array([w2v_model.wv[i] for i in ls if i in words])\n",
        "                         for ls in X_train])\n",
        "X_test_vect = np.array([np.array([w2v_model.wv[i] for i in ls if i in words])\n",
        "                         for ls in X_test])\n",
        "X_train_vect_avg = []\n",
        "for v in X_train_vect:\n",
        "    if v.size:\n",
        "        X_train_vect_avg.append(v.mean(axis=0))\n",
        "    else:\n",
        "        X_train_vect_avg.append(np.zeros(100, dtype=float))\n",
        "        \n",
        "X_test_vect_avg = []\n",
        "for v in X_test_vect:\n",
        "    if v.size:\n",
        "        X_test_vect_avg.append(v.mean(axis=0))\n",
        "    else:\n",
        "        X_test_vect_avg.append(np.zeros(100, dtype=float))"
      ],
      "metadata": {
        "id": "mCETGaoVy17Y",
        "colab": {
          "base_uri": "https://localhost:8080/"
        },
        "outputId": "3e3234a8-fe2d-406d-f749-c72dd42dbbee"
      },
      "execution_count": null,
      "outputs": [
        {
          "output_type": "stream",
          "name": "stderr",
          "text": [
            "/usr/local/lib/python3.7/dist-packages/ipykernel_launcher.py:3: VisibleDeprecationWarning:\n",
            "\n",
            "Creating an ndarray from ragged nested sequences (which is a list-or-tuple of lists-or-tuples-or ndarrays with different lengths or shapes) is deprecated. If you meant to do this, you must specify 'dtype=object' when creating the ndarray.\n",
            "\n",
            "/usr/local/lib/python3.7/dist-packages/ipykernel_launcher.py:5: VisibleDeprecationWarning:\n",
            "\n",
            "Creating an ndarray from ragged nested sequences (which is a list-or-tuple of lists-or-tuples-or ndarrays with different lengths or shapes) is deprecated. If you meant to do this, you must specify 'dtype=object' when creating the ndarray.\n",
            "\n"
          ]
        }
      ]
    },
    {
      "cell_type": "code",
      "source": [
        "cls = [XGBClassifier(random_state=22,learning_rate=0.9),\n",
        "    \n",
        "       CatBoostClassifier(verbose=0),\n",
        "    \n",
        "       DecisionTreeClassifier(),\n",
        "\n",
        "       RandomForestClassifier(n_estimators=200),\n",
        "       ExtraTreesClassifier(n_estimators=200),\n",
        "       BaggingClassifier(n_estimators=20),\n",
        "       AdaBoostClassifier(n_estimators=100),\n",
        "       GradientBoostingClassifier(n_estimators=200),\n",
        "\n",
        "       KNeighborsClassifier(),\n",
        "\n",
        "       LogisticRegression(),\n",
        "       LogisticRegression(C=1, penalty='l1', solver='liblinear'), #Lasso\n",
        "       SGDClassifier(),\n",
        "\n",
        "       \n",
        "       \n",
        "       LinearSVC(),\n",
        "       OneVsRestClassifier(BaggingClassifier(SVC(kernel='linear', class_weight='balanced'), max_samples=1.0 / 10))\n",
        "       ]\n",
        "\n",
        "cls_name = []\n",
        "\n",
        "lbl_actual = y_test\n",
        "i = 0\n",
        "accuracy = []\n",
        "for cl in cls:\n",
        "    if cl.__class__.__name__==\"XGBClassifier\":\n",
        "      model = cl.fit(np.array(X_train_vect_avg),y_train.values.ravel())\n",
        "      lbl_pred = model.predict(X_test_vect_avg)\n",
        "      a = (100*accuracy_score(lbl_pred, lbl_actual))\n",
        "      a = round(a,2)\n",
        "      accuracy.append(a)\n",
        "      cls_name.append(cl.__class__.__name__)\n",
        "      print (\"{}  Accuracy Score : {}%\".format(cls_name[i],a))\n",
        "      print ( classification_report(lbl_pred, lbl_actual, digits=4))\n",
        "      i +=1\n",
        "    else:\n",
        "      model = cl.fit(X_train_vect_avg,y_train.values.ravel())\n",
        "      lbl_pred = model.predict(X_test_vect_avg)\n",
        "      a = (100*accuracy_score(lbl_pred, lbl_actual))\n",
        "      a = round(a,2)\n",
        "      accuracy.append(a)\n",
        "      cls_name.append(cl.__class__.__name__)\n",
        "      print (\"{}  Accuracy Score : {}%\".format(cls_name[i],a))\n",
        "      print ( classification_report(lbl_pred, lbl_actual, digits=4))\n",
        "      i +=1"
      ],
      "metadata": {
        "id": "vm5a_TOa0Bkx",
        "colab": {
          "base_uri": "https://localhost:8080/"
        },
        "outputId": "e15594e8-4c1c-409d-9ebd-9f1cb36130ea"
      },
      "execution_count": null,
      "outputs": [
        {
          "output_type": "stream",
          "name": "stdout",
          "text": [
            "XGBClassifier  Accuracy Score : 97.92%\n",
            "              precision    recall  f1-score   support\n",
            "\n",
            "           0     0.9641    0.9941    0.9788      5748\n",
            "           1     0.9943    0.9653    0.9796      6140\n",
            "\n",
            "    accuracy                         0.9792     11888\n",
            "   macro avg     0.9792    0.9797    0.9792     11888\n",
            "weighted avg     0.9797    0.9792    0.9792     11888\n",
            "\n",
            "CatBoostClassifier  Accuracy Score : 98.59%\n",
            "              precision    recall  f1-score   support\n",
            "\n",
            "           0     0.9733    0.9983    0.9856      5779\n",
            "           1     0.9983    0.9741    0.9861      6109\n",
            "\n",
            "    accuracy                         0.9859     11888\n",
            "   macro avg     0.9858    0.9862    0.9859     11888\n",
            "weighted avg     0.9862    0.9859    0.9859     11888\n",
            "\n",
            "DecisionTreeClassifier  Accuracy Score : 98.07%\n",
            "              precision    recall  f1-score   support\n",
            "\n",
            "           0     0.9629    0.9983    0.9802      5717\n",
            "           1     0.9983    0.9643    0.9810      6171\n",
            "\n",
            "    accuracy                         0.9807     11888\n",
            "   macro avg     0.9806    0.9813    0.9806     11888\n",
            "weighted avg     0.9813    0.9807    0.9807     11888\n",
            "\n",
            "RandomForestClassifier  Accuracy Score : 99.48%\n",
            "              precision    recall  f1-score   support\n",
            "\n",
            "           0     0.9912    0.9983    0.9948      5885\n",
            "           1     0.9983    0.9913    0.9948      6003\n",
            "\n",
            "    accuracy                         0.9948     11888\n",
            "   macro avg     0.9948    0.9948    0.9948     11888\n",
            "weighted avg     0.9948    0.9948    0.9948     11888\n",
            "\n",
            "ExtraTreesClassifier  Accuracy Score : 99.72%\n",
            "              precision    recall  f1-score   support\n",
            "\n",
            "           0     0.9961    0.9983    0.9972      5914\n",
            "           1     0.9983    0.9961    0.9972      5974\n",
            "\n",
            "    accuracy                         0.9972     11888\n",
            "   macro avg     0.9972    0.9972    0.9972     11888\n",
            "weighted avg     0.9972    0.9972    0.9972     11888\n",
            "\n",
            "BaggingClassifier  Accuracy Score : 99.08%\n",
            "              precision    recall  f1-score   support\n",
            "\n",
            "           0     0.9833    0.9983    0.9907      5838\n",
            "           1     0.9983    0.9836    0.9909      6050\n",
            "\n",
            "    accuracy                         0.9908     11888\n",
            "   macro avg     0.9908    0.9910    0.9908     11888\n",
            "weighted avg     0.9909    0.9908    0.9908     11888\n",
            "\n",
            "AdaBoostClassifier  Accuracy Score : 91.2%\n",
            "              precision    recall  f1-score   support\n",
            "\n",
            "           0     0.9264    0.9000    0.9130      6101\n",
            "           1     0.8977    0.9247    0.9110      5787\n",
            "\n",
            "    accuracy                         0.9120     11888\n",
            "   macro avg     0.9121    0.9123    0.9120     11888\n",
            "weighted avg     0.9124    0.9120    0.9120     11888\n",
            "\n",
            "GradientBoostingClassifier  Accuracy Score : 93.93%\n",
            "              precision    recall  f1-score   support\n",
            "\n",
            "           0     0.9339    0.9437    0.9388      5865\n",
            "           1     0.9446    0.9349    0.9398      6023\n",
            "\n",
            "    accuracy                         0.9393     11888\n",
            "   macro avg     0.9393    0.9393    0.9393     11888\n",
            "weighted avg     0.9393    0.9393    0.9393     11888\n",
            "\n",
            "KNeighborsClassifier  Accuracy Score : 98.38%\n",
            "              precision    recall  f1-score   support\n",
            "\n",
            "           0     0.9706    0.9967    0.9835      5772\n",
            "           1     0.9968    0.9716    0.9840      6116\n",
            "\n",
            "    accuracy                         0.9838     11888\n",
            "   macro avg     0.9837    0.9841    0.9838     11888\n",
            "weighted avg     0.9841    0.9838    0.9838     11888\n",
            "\n"
          ]
        },
        {
          "output_type": "stream",
          "name": "stderr",
          "text": [
            "/usr/local/lib/python3.7/dist-packages/sklearn/linear_model/_logistic.py:818: ConvergenceWarning:\n",
            "\n",
            "lbfgs failed to converge (status=1):\n",
            "STOP: TOTAL NO. of ITERATIONS REACHED LIMIT.\n",
            "\n",
            "Increase the number of iterations (max_iter) or scale the data as shown in:\n",
            "    https://scikit-learn.org/stable/modules/preprocessing.html\n",
            "Please also refer to the documentation for alternative solver options:\n",
            "    https://scikit-learn.org/stable/modules/linear_model.html#logistic-regression\n",
            "\n"
          ]
        },
        {
          "output_type": "stream",
          "name": "stdout",
          "text": [
            "LogisticRegression  Accuracy Score : 87.58%\n",
            "              precision    recall  f1-score   support\n",
            "\n",
            "           0     0.8944    0.8618    0.8778      6151\n",
            "           1     0.8574    0.8909    0.8738      5737\n",
            "\n",
            "    accuracy                         0.8758     11888\n",
            "   macro avg     0.8759    0.8763    0.8758     11888\n",
            "weighted avg     0.8765    0.8758    0.8759     11888\n",
            "\n",
            "LogisticRegression  Accuracy Score : 87.49%\n",
            "              precision    recall  f1-score   support\n",
            "\n",
            "           0     0.8929    0.8613    0.8768      6144\n",
            "           1     0.8571    0.8894    0.8730      5744\n",
            "\n",
            "    accuracy                         0.8749     11888\n",
            "   macro avg     0.8750    0.8754    0.8749     11888\n",
            "weighted avg     0.8756    0.8749    0.8750     11888\n",
            "\n",
            "SGDClassifier  Accuracy Score : 87.43%\n",
            "              precision    recall  f1-score   support\n",
            "\n",
            "           0     0.9106    0.8485    0.8784      6361\n",
            "           1     0.8383    0.9041    0.8700      5527\n",
            "\n",
            "    accuracy                         0.8743     11888\n",
            "   macro avg     0.8744    0.8763    0.8742     11888\n",
            "weighted avg     0.8770    0.8743    0.8745     11888\n",
            "\n",
            "LinearSVC  Accuracy Score : 87.46%\n",
            "              precision    recall  f1-score   support\n",
            "\n",
            "           0     0.8967    0.8581    0.8770      6194\n",
            "           1     0.8525    0.8925    0.8721      5694\n",
            "\n",
            "    accuracy                         0.8746     11888\n",
            "   macro avg     0.8746    0.8753    0.8745     11888\n",
            "weighted avg     0.8756    0.8746    0.8746     11888\n",
            "\n",
            "OneVsRestClassifier  Accuracy Score : 87.63%\n",
            "              precision    recall  f1-score   support\n",
            "\n",
            "           0     0.8956    0.8618    0.8784      6159\n",
            "           1     0.8572    0.8920    0.8743      5729\n",
            "\n",
            "    accuracy                         0.8763     11888\n",
            "   macro avg     0.8764    0.8769    0.8763     11888\n",
            "weighted avg     0.8771    0.8763    0.8764     11888\n",
            "\n"
          ]
        }
      ]
    },
    {
      "cell_type": "code",
      "source": [
        "plt.bar(cls_name, accuracy)\n",
        "plt.xticks(rotation=70)"
      ],
      "metadata": {
        "colab": {
          "base_uri": "https://localhost:8080/",
          "height": 419
        },
        "id": "8JuL_4F1Y_lv",
        "outputId": "b124ac0f-660a-47a6-a309-311ef2dc335c"
      },
      "execution_count": null,
      "outputs": [
        {
          "output_type": "execute_result",
          "data": {
            "text/plain": [
              "([0, 1, 2, 3, 4, 5, 6, 7, 8, 9, 10, 11, 12],\n",
              " <a list of 13 Text major ticklabel objects>)"
            ]
          },
          "metadata": {},
          "execution_count": 23
        },
        {
          "output_type": "display_data",
          "data": {
            "text/plain": [
              "<Figure size 432x288 with 1 Axes>"
            ],
            "image/png": "[encoded data removed]"
          },
          "metadata": {
            "needs_background": "light"
          }
        }
      ]
    },
    {
      "cell_type": "markdown",
      "source": [
        "# **Google Weighted Word2Vec Vectorization**"
      ],
      "metadata": {
        "id": "Sz887zWIkFNM"
      }
    },
    {
      "cell_type": "code",
      "source": [
        "from gensim.models import Word2Vec\n",
        "\n",
        "w2v_model = gensim.models.KeyedVectors.load_word2vec_format(\"GoogleNews-vectors-negative300.bin.gz\", binary=True)\n"
      ],
      "metadata": {
        "id": "7Mtdl1wmkWkQ"
      },
      "execution_count": null,
      "outputs": []
    },
    {
      "cell_type": "code",
      "source": [
        "class Word2VecVectorizer:\n",
        "  def __init__(self, model):\n",
        "    print(\"Loading in word vectors...\")\n",
        "    self.word_vectors = model\n",
        "    print(\"Finished loading in word vectors\")\n",
        "\n",
        "  def fit(self, data):\n",
        "    pass\n",
        "\n",
        "  def transform(self, data):\n",
        "    # determine the dimensionality of vectors\n",
        "    v = self.word_vectors.get_vector('king')\n",
        "    self.D = v.shape[0]\n",
        "\n",
        "    X = np.zeros((len(data), self.D))\n",
        "    n = 0\n",
        "    emptycount = 0\n",
        "    for sentence in data:\n",
        "      tokens = sentence.split()\n",
        "      vecs = []\n",
        "      m = 0\n",
        "      for word in tokens:\n",
        "        try:\n",
        "          # throws KeyError if word not found\n",
        "          vec = self.word_vectors.get_vector(word)\n",
        "          vecs.append(vec)\n",
        "          m += 1\n",
        "        except KeyError:\n",
        "          pass\n",
        "      if len(vecs) > 0:\n",
        "        vecs = np.array(vecs)\n",
        "        X[n] = vecs.mean(axis=0)\n",
        "      else:\n",
        "        emptycount += 1\n",
        "      n += 1\n",
        "    print(\"Numer of samples with no words found: %s / %s\" % (emptycount, len(data)))\n",
        "    return X\n",
        "\n",
        "\n",
        "  def fit_transform(self, data):\n",
        "    self.fit(data)\n",
        "    return self.transform(data)"
      ],
      "metadata": {
        "id": "b7tl0_lUkhUe"
      },
      "execution_count": null,
      "outputs": []
    },
    {
      "cell_type": "code",
      "source": [
        "X_train, X_test, y_train, y_test = train_test_split (training_data_oversampled['clean_tweet'], training_data_oversampled['label'] , test_size=0.2)"
      ],
      "metadata": {
        "id": "CfTAb0cqkhWG"
      },
      "execution_count": null,
      "outputs": []
    },
    {
      "cell_type": "code",
      "source": [
        "# Set a word vectorizer\n",
        "vectorizer = Word2VecVectorizer(w2v_model)\n",
        "# Get the sentence embeddings for the train dataset\n",
        "Xtrain = vectorizer.fit_transform(X_train)\n",
        "# Get the sentence embeddings for the test dataset\n",
        "Xtest = vectorizer.transform(X_test)\n"
      ],
      "metadata": {
        "id": "jQCxmY4tkj6-"
      },
      "execution_count": null,
      "outputs": []
    },
    {
      "cell_type": "code",
      "source": [
        "cls = [#XGBClassifier(random_state=22,learning_rate=0.9),\n",
        "    \n",
        "       #CatBoostClassifier(verbose=0),\n",
        "    \n",
        "       DecisionTreeClassifier(),\n",
        "\n",
        "       RandomForestClassifier(n_estimators=200),\n",
        "       ExtraTreesClassifier(n_estimators=200),\n",
        "       BaggingClassifier(n_estimators=20),\n",
        "       AdaBoostClassifier(n_estimators=100),\n",
        "       GradientBoostingClassifier(n_estimators=200),\n",
        "\n",
        "       KNeighborsClassifier(),\n",
        "\n",
        "       LogisticRegression(),\n",
        "       LogisticRegression(C=1, penalty='l1', solver='liblinear'), #Lasso\n",
        "       SGDClassifier(),\n",
        "\n",
        "       \n",
        "       \n",
        "       LinearSVC(),\n",
        "       OneVsRestClassifier(BaggingClassifier(SVC(kernel='linear', class_weight='balanced'), max_samples=1.0 / 10))\n",
        "       ]\n",
        "\n",
        "cls_name = []\n",
        "\n",
        "lbl_actual = y_train\n",
        "i = 0\n",
        "accuracy = []\n",
        "for cl in cls:\n",
        "    if cl.__class__.__name__==\"XGBClassifier\":\n",
        "      model = cl.fit(np.array(Xtrain),y_train)\n",
        "      lbl_pred = model.predict(Xtest)\n",
        "      a = (100*accuracy_score(lbl_pred, lbl_actual))\n",
        "      a = round(a,2)\n",
        "      accuracy.append(a)\n",
        "      cls_name.append(cl.__class__.__name__)\n",
        "      print (\"{}  Accuracy Score : {}%\".format(cls_name[i],a))\n",
        "      print ( classification_report(lbl_pred, lbl_actual, digits=4))\n",
        "      i +=1\n",
        "    else:\n",
        "      model = cl.fit(Xtrain,y_train)\n",
        "      lbl_pred = model.predict(Xtest)\n",
        "      a = (100*accuracy_score(lbl_pred, lbl_actual))\n",
        "      a = round(a,2)\n",
        "      accuracy.append(a)\n",
        "      cls_name.append(cl.__class__.__name__)\n",
        "      print (\"{}  Accuracy Score : {}%\".format(cls_name[i],a))\n",
        "      print ( classification_report(lbl_pred, lbl_actual, digits=4))\n",
        "      i +=1"
      ],
      "metadata": {
        "id": "rlDWpSZ1kl30"
      },
      "execution_count": null,
      "outputs": []
    },
    {
      "cell_type": "code",
      "source": [
        "plt.bar(cls_name, accuracy)\n",
        "plt.xticks(rotation=70)"
      ],
      "metadata": {
        "id": "dByaz6lDZrSy"
      },
      "execution_count": null,
      "outputs": []
    },
    {
      "cell_type": "markdown",
      "source": [
        "# **Glove Vectorization**"
      ],
      "metadata": {
        "id": "jFw8QcYUDQ2w"
      }
    },
    {
      "cell_type": "code",
      "source": [
        "from gensim.scripts.glove2word2vec import glove2word2vec\n",
        "glove_filename='glove.6B.50d.txt'\n",
        "word2vec_output_file = glove_filename+'.word2vec'\n",
        "glove2word2vec(\"/content/drive/MyDrive/Colab Notebooks/glove.6B.50d.txt\", word2vec_output_file)\n",
        "w2v_model = KeyedVectors.load_word2vec_format(word2vec_output_file, binary=False)\n"
      ],
      "metadata": {
        "colab": {
          "base_uri": "https://localhost:8080/"
        },
        "id": "XqfoDXbgX-Po",
        "outputId": "7e69cd87-5635-401e-c49a-6ad7f2839741"
      },
      "execution_count": null,
      "outputs": [
        {
          "output_type": "stream",
          "name": "stderr",
          "text": [
            "/usr/local/lib/python3.7/dist-packages/ipykernel_launcher.py:4: DeprecationWarning:\n",
            "\n",
            "Call to deprecated `glove2word2vec` (KeyedVectors.load_word2vec_format(.., binary=False, no_header=True) loads GLoVE text vectors.).\n",
            "\n"
          ]
        }
      ]
    },
    {
      "cell_type": "code",
      "source": [
        "class Word2VecVectorizer:\n",
        "  def __init__(self, model):\n",
        "    print(\"Loading in word vectors...\")\n",
        "    self.word_vectors = model\n",
        "    print(\"Finished loading in word vectors\")\n",
        "\n",
        "  def fit(self, data):\n",
        "    pass\n",
        "\n",
        "  def transform(self, data):\n",
        "    # determine the dimensionality of vectors\n",
        "    v = self.word_vectors.get_vector('king')\n",
        "    self.D = v.shape[0]\n",
        "\n",
        "    X = np.zeros((len(data), self.D))\n",
        "    n = 0\n",
        "    emptycount = 0\n",
        "    for sentence in data:\n",
        "      tokens = sentence.split()\n",
        "      vecs = []\n",
        "      m = 0\n",
        "      for word in tokens:\n",
        "        try:\n",
        "          # throws KeyError if word not found\n",
        "          vec = self.word_vectors.get_vector(word)\n",
        "          vecs.append(vec)\n",
        "          m += 1\n",
        "        except KeyError:\n",
        "          pass\n",
        "      if len(vecs) > 0:\n",
        "        vecs = np.array(vecs)\n",
        "        X[n] = vecs.mean(axis=0)\n",
        "      else:\n",
        "        emptycount += 1\n",
        "      n += 1\n",
        "    print(\"Numer of samples with no words found: %s / %s\" % (emptycount, len(data)))\n",
        "    return X\n",
        "\n",
        "\n",
        "  def fit_transform(self, data):\n",
        "    self.fit(data)\n",
        "    return self.transform(data)"
      ],
      "metadata": {
        "id": "ptO9FKn1gB6G"
      },
      "execution_count": null,
      "outputs": []
    },
    {
      "cell_type": "code",
      "source": [
        "X_train, X_test, y_train, y_test = train_test_split (training_data_oversampled['clean_tweet'], training_data_oversampled['label'] , test_size=0.2)"
      ],
      "metadata": {
        "id": "arTiMw3KiC2A"
      },
      "execution_count": null,
      "outputs": []
    },
    {
      "cell_type": "code",
      "source": [
        "# Set a word vectorizer\n",
        "vectorizer = Word2VecVectorizer(w2v_model)\n",
        "# Get the sentence embeddings for the train dataset\n",
        "Xtrain = vectorizer.fit_transform(X_train)\n",
        "# Get the sentence embeddings for the test dataset\n",
        "Xtest = vectorizer.transform(X_test)\n"
      ],
      "metadata": {
        "colab": {
          "base_uri": "https://localhost:8080/"
        },
        "id": "z_HTQCfkhZkI",
        "outputId": "88459097-e042-4dc4-cbfc-20e585cf655b"
      },
      "execution_count": null,
      "outputs": [
        {
          "output_type": "stream",
          "name": "stdout",
          "text": [
            "Loading in word vectors...\n",
            "Finished loading in word vectors\n",
            "Numer of samples with no words found: 164 / 47552\n",
            "Numer of samples with no words found: 53 / 11888\n"
          ]
        }
      ]
    },
    {
      "cell_type": "code",
      "source": [
        "cls = [XGBClassifier(random_state=22,learning_rate=0.9),\n",
        "    \n",
        "       CatBoostClassifier(verbose=0),\n",
        "    \n",
        "       DecisionTreeClassifier(),\n",
        "\n",
        "       RandomForestClassifier(n_estimators=200),\n",
        "       ExtraTreesClassifier(n_estimators=200),\n",
        "       BaggingClassifier(n_estimators=20),\n",
        "       AdaBoostClassifier(n_estimators=100),\n",
        "       GradientBoostingClassifier(n_estimators=200),\n",
        "\n",
        "       KNeighborsClassifier(),\n",
        "\n",
        "       LogisticRegression(),\n",
        "       LogisticRegression(C=1, penalty='l1', solver='liblinear'), #Lasso\n",
        "       SGDClassifier(),\n",
        "\n",
        "       \n",
        "       \n",
        "       LinearSVC(),\n",
        "       OneVsRestClassifier(BaggingClassifier(SVC(kernel='linear', class_weight='balanced'), max_samples=1.0 / 10))\n",
        "       ]\n",
        "\n",
        "cls_name = []\n",
        "\n",
        "lbl_actual = y_test\n",
        "i = 0\n",
        "accuracy = []\n",
        "for cl in cls:\n",
        "    if cl.__class__.__name__==\"XGBClassifier\":\n",
        "      model = cl.fit(np.array(Xtrain),y_train)\n",
        "      lbl_pred = model.predict(Xtest)\n",
        "      a = (100*accuracy_score(lbl_pred, lbl_actual))\n",
        "      a = round(a,2)\n",
        "      accuracy.append(a)\n",
        "      cls_name.append(cl.__class__.__name__)\n",
        "      print (\"{}  Accuracy Score : {}%\".format(cls_name[i],a))\n",
        "      print ( classification_report(lbl_pred, lbl_actual, digits=4))\n",
        "      i +=1\n",
        "    else:\n",
        "      model = cl.fit(Xtrain,y_train)\n",
        "      lbl_pred = model.predict(Xtest)\n",
        "      a = (100*accuracy_score(lbl_pred, lbl_actual))\n",
        "      a = round(a,2)\n",
        "      accuracy.append(a)\n",
        "      cls_name.append(cl.__class__.__name__)\n",
        "      print (\"{}  Accuracy Score : {}%\".format(cls_name[i],a))\n",
        "      print ( classification_report(lbl_pred, lbl_actual, digits=4))\n",
        "      i +=1"
      ],
      "metadata": {
        "colab": {
          "base_uri": "https://localhost:8080/"
        },
        "id": "v6ClrJkPb39a",
        "outputId": "94f05787-0635-45f2-f2d0-4fb0a727d67c"
      },
      "execution_count": null,
      "outputs": [
        {
          "output_type": "stream",
          "name": "stdout",
          "text": [
            "XGBClassifier  Accuracy Score : 94.64%\n",
            "              precision    recall  f1-score   support\n",
            "\n",
            "           0     0.9095    0.9785    0.9427      5359\n",
            "           1     0.9812    0.9200    0.9496      6529\n",
            "\n",
            "    accuracy                         0.9464     11888\n",
            "   macro avg     0.9453    0.9493    0.9462     11888\n",
            "weighted avg     0.9489    0.9464    0.9465     11888\n",
            "\n",
            "CatBoostClassifier  Accuracy Score : 97.82%\n",
            "              precision    recall  f1-score   support\n",
            "\n",
            "           0     0.9580    0.9969    0.9771      5541\n",
            "           1     0.9972    0.9619    0.9792      6347\n",
            "\n",
            "    accuracy                         0.9782     11888\n",
            "   macro avg     0.9776    0.9794    0.9782     11888\n",
            "weighted avg     0.9790    0.9782    0.9782     11888\n",
            "\n",
            "DecisionTreeClassifier  Accuracy Score : 97.33%\n",
            "              precision    recall  f1-score   support\n",
            "\n",
            "           0     0.9466    0.9982    0.9717      5468\n",
            "           1     0.9984    0.9520    0.9746      6420\n",
            "\n",
            "    accuracy                         0.9733     11888\n",
            "   macro avg     0.9725    0.9751    0.9732     11888\n",
            "weighted avg     0.9745    0.9733    0.9733     11888\n",
            "\n",
            "RandomForestClassifier  Accuracy Score : 99.6%\n",
            "              precision    recall  f1-score   support\n",
            "\n",
            "           0     0.9934    0.9983    0.9958      5738\n",
            "           1     0.9984    0.9938    0.9961      6150\n",
            "\n",
            "    accuracy                         0.9960     11888\n",
            "   macro avg     0.9959    0.9960    0.9960     11888\n",
            "weighted avg     0.9960    0.9960    0.9960     11888\n",
            "\n",
            "ExtraTreesClassifier  Accuracy Score : 99.86%\n",
            "              precision    recall  f1-score   support\n",
            "\n",
            "           0     0.9988    0.9983    0.9985      5769\n",
            "           1     0.9984    0.9989    0.9986      6119\n",
            "\n",
            "    accuracy                         0.9986     11888\n",
            "   macro avg     0.9986    0.9986    0.9986     11888\n",
            "weighted avg     0.9986    0.9986    0.9986     11888\n",
            "\n",
            "BaggingClassifier  Accuracy Score : 99.07%\n",
            "              precision    recall  f1-score   support\n",
            "\n",
            "           0     0.9827    0.9982    0.9904      5676\n",
            "           1     0.9984    0.9839    0.9911      6212\n",
            "\n",
            "    accuracy                         0.9907     11888\n",
            "   macro avg     0.9905    0.9911    0.9907     11888\n",
            "weighted avg     0.9909    0.9907    0.9907     11888\n",
            "\n",
            "AdaBoostClassifier  Accuracy Score : 82.4%\n",
            "              precision    recall  f1-score   support\n",
            "\n",
            "           0     0.8396    0.8058    0.8223      6008\n",
            "           1     0.8094    0.8427    0.8257      5880\n",
            "\n",
            "    accuracy                         0.8240     11888\n",
            "   macro avg     0.8245    0.8242    0.8240     11888\n",
            "weighted avg     0.8246    0.8240    0.8240     11888\n",
            "\n",
            "GradientBoostingClassifier  Accuracy Score : 89.28%\n",
            "              precision    recall  f1-score   support\n",
            "\n",
            "           0     0.8779    0.8988    0.8882      5632\n",
            "           1     0.9069    0.8875    0.8971      6256\n",
            "\n",
            "    accuracy                         0.8928     11888\n",
            "   macro avg     0.8924    0.8931    0.8927     11888\n",
            "weighted avg     0.8932    0.8928    0.8929     11888\n",
            "\n",
            "KNeighborsClassifier  Accuracy Score : 95.03%\n",
            "              precision    recall  f1-score   support\n",
            "\n",
            "           0     0.8992    0.9981    0.9461      5195\n",
            "           1     0.9984    0.9132    0.9539      6693\n",
            "\n",
            "    accuracy                         0.9503     11888\n",
            "   macro avg     0.9488    0.9556    0.9500     11888\n",
            "weighted avg     0.9550    0.9503    0.9505     11888\n",
            "\n"
          ]
        },
        {
          "output_type": "stream",
          "name": "stderr",
          "text": [
            "/usr/local/lib/python3.7/dist-packages/sklearn/linear_model/_logistic.py:818: ConvergenceWarning:\n",
            "\n",
            "lbfgs failed to converge (status=1):\n",
            "STOP: TOTAL NO. of ITERATIONS REACHED LIMIT.\n",
            "\n",
            "Increase the number of iterations (max_iter) or scale the data as shown in:\n",
            "    https://scikit-learn.org/stable/modules/preprocessing.html\n",
            "Please also refer to the documentation for alternative solver options:\n",
            "    https://scikit-learn.org/stable/modules/linear_model.html#logistic-regression\n",
            "\n"
          ]
        },
        {
          "output_type": "stream",
          "name": "stdout",
          "text": [
            "LogisticRegression  Accuracy Score : 81.04%\n",
            "              precision    recall  f1-score   support\n",
            "\n",
            "           0     0.8208    0.7949    0.8077      5954\n",
            "           1     0.8006    0.8259    0.8130      5934\n",
            "\n",
            "    accuracy                         0.8104     11888\n",
            "   macro avg     0.8107    0.8104    0.8104     11888\n",
            "weighted avg     0.8107    0.8104    0.8104     11888\n",
            "\n",
            "LogisticRegression  Accuracy Score : 81.24%\n",
            "              precision    recall  f1-score   support\n",
            "\n",
            "           0     0.8210    0.7980    0.8094      5932\n",
            "           1     0.8043    0.8267    0.8154      5956\n",
            "\n",
            "    accuracy                         0.8124     11888\n",
            "   macro avg     0.8127    0.8124    0.8124     11888\n",
            "weighted avg     0.8126    0.8124    0.8124     11888\n",
            "\n",
            "SGDClassifier  Accuracy Score : 81.45%\n",
            "              precision    recall  f1-score   support\n",
            "\n",
            "           0     0.7896    0.8211    0.8051      5545\n",
            "           1     0.8380    0.8088    0.8231      6343\n",
            "\n",
            "    accuracy                         0.8145     11888\n",
            "   macro avg     0.8138    0.8149    0.8141     11888\n",
            "weighted avg     0.8154    0.8145    0.8147     11888\n",
            "\n",
            "LinearSVC  Accuracy Score : 81.05%\n",
            "              precision    recall  f1-score   support\n",
            "\n",
            "           0     0.8259    0.7922    0.8087      6011\n",
            "           1     0.7960    0.8292    0.8122      5877\n",
            "\n",
            "    accuracy                         0.8105     11888\n",
            "   macro avg     0.8109    0.8107    0.8105     11888\n",
            "weighted avg     0.8111    0.8105    0.8104     11888\n",
            "\n",
            "OneVsRestClassifier  Accuracy Score : 81.13%\n",
            "              precision    recall  f1-score   support\n",
            "\n",
            "           0     0.8169    0.7987    0.8077      5897\n",
            "           1     0.8061    0.8237    0.8148      5991\n",
            "\n",
            "    accuracy                         0.8113     11888\n",
            "   macro avg     0.8115    0.8112    0.8113     11888\n",
            "weighted avg     0.8114    0.8113    0.8113     11888\n",
            "\n"
          ]
        }
      ]
    },
    {
      "cell_type": "code",
      "source": [
        "plt.bar(cls_name, accuracy)\n",
        "plt.xticks(rotation=70)"
      ],
      "metadata": {
        "colab": {
          "base_uri": "https://localhost:8080/",
          "height": 419
        },
        "id": "MQHj-z2yZbj8",
        "outputId": "7b6331ad-e070-400a-d819-8fea230ea405"
      },
      "execution_count": null,
      "outputs": [
        {
          "output_type": "execute_result",
          "data": {
            "text/plain": [
              "([0, 1, 2, 3, 4, 5, 6, 7, 8, 9, 10, 11, 12],\n",
              " <a list of 13 Text major ticklabel objects>)"
            ]
          },
          "metadata": {},
          "execution_count": 30
        },
        {
          "output_type": "display_data",
          "data": {
            "text/plain": [
              "<Figure size 432x288 with 1 Axes>"
            ],
            "image/png": "[encoded data removed]"
          },
          "metadata": {
            "needs_background": "light"
          }
        }
      ]
    },
    {
      "cell_type": "markdown",
      "source": [
        "# **Gensim FastText (extracting the word embeddings)**"
      ],
      "metadata": {
        "id": "8hzbnTnIKqfW"
      }
    },
    {
      "cell_type": "code",
      "source": [
        "!pip install --upgrade gensim\n",
        "import gensim\n",
        "training_data_oversampled['tokenized'] = training_data_oversampled['clean_tweet'].apply(lambda x: gensim.utils.simple_preprocess(x))\n",
        "X_train, X_test, y_train, y_test = train_test_split (training_data_oversampled['tokenized'], training_data_oversampled['label'] , test_size=0.2)\n"
      ],
      "metadata": {
        "id": "BL-aeHP5STeH",
        "colab": {
          "base_uri": "https://localhost:8080/",
          "height": 346
        },
        "outputId": "97a6489a-7d18-4f5f-ec3c-ddce29765896"
      },
      "execution_count": null,
      "outputs": [
        {
          "output_type": "stream",
          "name": "stdout",
          "text": [
            "Looking in indexes: https://pypi.org/simple, https://us-python.pkg.dev/colab-wheels/public/simple/\n",
            "Requirement already satisfied: gensim in /usr/local/lib/python3.7/dist-packages (4.1.2)\n",
            "Collecting gensim\n",
            "  Downloading gensim-4.2.0-cp37-cp37m-manylinux_2_12_x86_64.manylinux2010_x86_64.whl (24.1 MB)\n",
            "\u001b[K     |████████████████████████████████| 24.1 MB 1.2 MB/s \n",
            "\u001b[?25hRequirement already satisfied: numpy>=1.17.0 in /usr/local/lib/python3.7/dist-packages (from gensim) (1.21.6)\n",
            "Requirement already satisfied: scipy>=0.18.1 in /usr/local/lib/python3.7/dist-packages (from gensim) (1.7.3)\n",
            "Requirement already satisfied: smart-open>=1.8.1 in /usr/local/lib/python3.7/dist-packages (from gensim) (5.2.1)\n",
            "Installing collected packages: gensim\n",
            "  Attempting uninstall: gensim\n",
            "    Found existing installation: gensim 4.1.2\n",
            "    Uninstalling gensim-4.1.2:\n",
            "      Successfully uninstalled gensim-4.1.2\n",
            "Successfully installed gensim-4.2.0\n"
          ]
        },
        {
          "output_type": "display_data",
          "data": {
            "application/vnd.colab-display-data+json": {
              "pip_warning": {
                "packages": [
                  "gensim"
                ]
              }
            }
          },
          "metadata": {}
        }
      ]
    },
    {
      "cell_type": "code",
      "source": [
        "from gensim.models import FastText\n",
        "from gensim.test.utils import common_texts\n",
        "\n",
        "model=FastText(sentences=X_train, epochs=100)"
      ],
      "metadata": {
        "id": "4b3K2f1VSE9X"
      },
      "execution_count": null,
      "outputs": []
    },
    {
      "cell_type": "code",
      "source": [
        "words = set(model.wv.index_to_key )\n",
        "X_train_vect = np.array([np.array([model.wv[i] for i in ls if i in words])\n",
        "                         for ls in X_train])\n",
        "X_test_vect = np.array([np.array([model.wv[i] for i in ls if i in words])\n",
        "                         for ls in X_test])\n",
        "X_train_vect_avg = []\n",
        "for v in X_train_vect:\n",
        "    if v.size:\n",
        "        X_train_vect_avg.append(v.mean(axis=0))\n",
        "    else:\n",
        "        X_train_vect_avg.append(np.zeros(100, dtype=float))\n",
        "        \n",
        "X_test_vect_avg = []\n",
        "for v in X_test_vect:\n",
        "    if v.size:\n",
        "        X_test_vect_avg.append(v.mean(axis=0))\n",
        "    else:\n",
        "        X_test_vect_avg.append(np.zeros(100, dtype=float))"
      ],
      "metadata": {
        "id": "c1Ii1k1yYWW3",
        "colab": {
          "base_uri": "https://localhost:8080/"
        },
        "outputId": "1bd0d3cf-27bd-494a-a435-04fea40c40dc"
      },
      "execution_count": null,
      "outputs": [
        {
          "output_type": "stream",
          "name": "stderr",
          "text": [
            "/usr/local/lib/python3.7/dist-packages/ipykernel_launcher.py:3: VisibleDeprecationWarning:\n",
            "\n",
            "Creating an ndarray from ragged nested sequences (which is a list-or-tuple of lists-or-tuples-or ndarrays with different lengths or shapes) is deprecated. If you meant to do this, you must specify 'dtype=object' when creating the ndarray.\n",
            "\n",
            "/usr/local/lib/python3.7/dist-packages/ipykernel_launcher.py:5: VisibleDeprecationWarning:\n",
            "\n",
            "Creating an ndarray from ragged nested sequences (which is a list-or-tuple of lists-or-tuples-or ndarrays with different lengths or shapes) is deprecated. If you meant to do this, you must specify 'dtype=object' when creating the ndarray.\n",
            "\n"
          ]
        }
      ]
    },
    {
      "cell_type": "code",
      "source": [
        "cls = [XGBClassifier(random_state=22,learning_rate=0.9),\n",
        "    \n",
        "       CatBoostClassifier(verbose=0),\n",
        "    \n",
        "       DecisionTreeClassifier(),\n",
        "\n",
        "       RandomForestClassifier(n_estimators=200),\n",
        "       ExtraTreesClassifier(n_estimators=200),\n",
        "       BaggingClassifier(n_estimators=20),\n",
        "       AdaBoostClassifier(n_estimators=100),\n",
        "       GradientBoostingClassifier(n_estimators=200),\n",
        "\n",
        "       KNeighborsClassifier(),\n",
        "\n",
        "       LogisticRegression(),\n",
        "       LogisticRegression(C=1, penalty='l1', solver='liblinear'), #Lasso\n",
        "       SGDClassifier(),\n",
        "\n",
        "       \n",
        "       \n",
        "       LinearSVC(),\n",
        "       OneVsRestClassifier(BaggingClassifier(SVC(kernel='linear', class_weight='balanced'), max_samples=1.0 / 10))\n",
        "       ]\n",
        "\n",
        "cls_name = []\n",
        "\n",
        "lbl_actual = y_test\n",
        "i = 0\n",
        "accuracy = []\n",
        "for cl in cls:\n",
        "    if cl.__class__.__name__==\"XGBClassifier\":\n",
        "      model = cl.fit(np.array(X_train_vect_avg),y_train.values.ravel())\n",
        "      lbl_pred = model.predict(X_test_vect_avg)\n",
        "      a = (100*accuracy_score(lbl_pred, lbl_actual))\n",
        "      a = round(a,2)\n",
        "      accuracy.append(a)\n",
        "      cls_name.append(cl.__class__.__name__)\n",
        "      print (\"{}  Accuracy Score : {}%\".format(cls_name[i],a))\n",
        "      print ( classification_report(lbl_pred, lbl_actual, digits=4))\n",
        "      i +=1\n",
        "    else:\n",
        "      model = cl.fit(X_train_vect_avg,y_train.values.ravel())\n",
        "      lbl_pred = model.predict(X_test_vect_avg)\n",
        "      a = (100*accuracy_score(lbl_pred, lbl_actual))\n",
        "      a = round(a,2)\n",
        "      accuracy.append(a)\n",
        "      cls_name.append(cl.__class__.__name__)\n",
        "      print (\"{}  Accuracy Score : {}%\".format(cls_name[i],a))\n",
        "      print ( classification_report(lbl_pred, lbl_actual, digits=4))\n",
        "      i +=1"
      ],
      "metadata": {
        "id": "SOhzjz2_27EN",
        "colab": {
          "base_uri": "https://localhost:8080/"
        },
        "outputId": "2abd89c9-03e6-43df-917b-002be8968ab7"
      },
      "execution_count": null,
      "outputs": [
        {
          "output_type": "stream",
          "name": "stdout",
          "text": [
            "XGBClassifier  Accuracy Score : 98.01%\n",
            "              precision    recall  f1-score   support\n",
            "\n",
            "           0     0.9620    0.9983    0.9798      5730\n",
            "           1     0.9983    0.9633    0.9805      6158\n",
            "\n",
            "    accuracy                         0.9801     11888\n",
            "   macro avg     0.9802    0.9808    0.9801     11888\n",
            "weighted avg     0.9808    0.9801    0.9802     11888\n",
            "\n",
            "CatBoostClassifier  Accuracy Score : 98.91%\n",
            "              precision    recall  f1-score   support\n",
            "\n",
            "           0     0.9788    0.9993    0.9890      5824\n",
            "           1     0.9993    0.9792    0.9892      6064\n",
            "\n",
            "    accuracy                         0.9891     11888\n",
            "   macro avg     0.9891    0.9893    0.9891     11888\n",
            "weighted avg     0.9893    0.9891    0.9891     11888\n",
            "\n",
            "DecisionTreeClassifier  Accuracy Score : 98.0%\n",
            "              precision    recall  f1-score   support\n",
            "\n",
            "           0     0.9606    0.9993    0.9796      5716\n",
            "           1     0.9993    0.9621    0.9804      6172\n",
            "\n",
            "    accuracy                         0.9800     11888\n",
            "   macro avg     0.9800    0.9807    0.9800     11888\n",
            "weighted avg     0.9807    0.9800    0.9800     11888\n",
            "\n",
            "RandomForestClassifier  Accuracy Score : 99.39%\n",
            "              precision    recall  f1-score   support\n",
            "\n",
            "           0     0.9884    0.9993    0.9938      5881\n",
            "           1     0.9993    0.9885    0.9939      6007\n",
            "\n",
            "    accuracy                         0.9939     11888\n",
            "   macro avg     0.9939    0.9939    0.9939     11888\n",
            "weighted avg     0.9939    0.9939    0.9939     11888\n",
            "\n",
            "ExtraTreesClassifier  Accuracy Score : 99.84%\n",
            "              precision    recall  f1-score   support\n",
            "\n",
            "           0     0.9975    0.9993    0.9984      5935\n",
            "           1     0.9993    0.9975    0.9984      5953\n",
            "\n",
            "    accuracy                         0.9984     11888\n",
            "   macro avg     0.9984    0.9984    0.9984     11888\n",
            "weighted avg     0.9984    0.9984    0.9984     11888\n",
            "\n",
            "BaggingClassifier  Accuracy Score : 99.03%\n",
            "              precision    recall  f1-score   support\n",
            "\n",
            "           0     0.9813    0.9993    0.9902      5839\n",
            "           1     0.9993    0.9816    0.9904      6049\n",
            "\n",
            "    accuracy                         0.9903     11888\n",
            "   macro avg     0.9903    0.9905    0.9903     11888\n",
            "weighted avg     0.9905    0.9903    0.9903     11888\n",
            "\n",
            "AdaBoostClassifier  Accuracy Score : 89.22%\n",
            "              precision    recall  f1-score   support\n",
            "\n",
            "           0     0.9020    0.8848    0.8933      6061\n",
            "           1     0.8825    0.8999    0.8912      5827\n",
            "\n",
            "    accuracy                         0.8922     11888\n",
            "   macro avg     0.8922    0.8924    0.8922     11888\n",
            "weighted avg     0.8924    0.8922    0.8923     11888\n",
            "\n",
            "GradientBoostingClassifier  Accuracy Score : 94.24%\n",
            "              precision    recall  f1-score   support\n",
            "\n",
            "           0     0.9262    0.9572    0.9414      5753\n",
            "           1     0.9586    0.9284    0.9433      6135\n",
            "\n",
            "    accuracy                         0.9424     11888\n",
            "   macro avg     0.9424    0.9428    0.9424     11888\n",
            "weighted avg     0.9429    0.9424    0.9424     11888\n",
            "\n",
            "KNeighborsClassifier  Accuracy Score : 97.86%\n",
            "              precision    recall  f1-score   support\n",
            "\n",
            "           0     0.9593    0.9979    0.9782      5716\n",
            "           1     0.9980    0.9608    0.9790      6172\n",
            "\n",
            "    accuracy                         0.9786     11888\n",
            "   macro avg     0.9786    0.9793    0.9786     11888\n",
            "weighted avg     0.9794    0.9786    0.9786     11888\n",
            "\n",
            "LogisticRegression  Accuracy Score : 90.03%\n",
            "              precision    recall  f1-score   support\n",
            "\n",
            "           0     0.9001    0.9006    0.9003      5943\n",
            "           1     0.9005    0.9001    0.9003      5945\n",
            "\n",
            "    accuracy                         0.9003     11888\n",
            "   macro avg     0.9003    0.9003    0.9003     11888\n",
            "weighted avg     0.9003    0.9003    0.9003     11888\n",
            "\n",
            "LogisticRegression  Accuracy Score : 90.02%\n",
            "              precision    recall  f1-score   support\n",
            "\n",
            "           0     0.8999    0.9005    0.9002      5942\n",
            "           1     0.9005    0.8999    0.9002      5946\n",
            "\n",
            "    accuracy                         0.9002     11888\n",
            "   macro avg     0.9002    0.9002    0.9002     11888\n",
            "weighted avg     0.9002    0.9002    0.9002     11888\n",
            "\n",
            "SGDClassifier  Accuracy Score : 89.89%\n",
            "              precision    recall  f1-score   support\n",
            "\n",
            "           0     0.9077    0.8921    0.8998      6050\n",
            "           1     0.8901    0.9060    0.8980      5838\n",
            "\n",
            "    accuracy                         0.8989     11888\n",
            "   macro avg     0.8989    0.8990    0.8989     11888\n",
            "weighted avg     0.8990    0.8989    0.8989     11888\n",
            "\n"
          ]
        },
        {
          "output_type": "stream",
          "name": "stderr",
          "text": [
            "/usr/local/lib/python3.7/dist-packages/sklearn/svm/_base.py:1208: ConvergenceWarning:\n",
            "\n",
            "Liblinear failed to converge, increase the number of iterations.\n",
            "\n"
          ]
        },
        {
          "output_type": "stream",
          "name": "stdout",
          "text": [
            "LinearSVC  Accuracy Score : 90.13%\n",
            "              precision    recall  f1-score   support\n",
            "\n",
            "           0     0.8984    0.9037    0.9011      5911\n",
            "           1     0.9042    0.8989    0.9016      5977\n",
            "\n",
            "    accuracy                         0.9013     11888\n",
            "   macro avg     0.9013    0.9013    0.9013     11888\n",
            "weighted avg     0.9013    0.9013    0.9013     11888\n",
            "\n",
            "OneVsRestClassifier  Accuracy Score : 90.19%\n",
            "              precision    recall  f1-score   support\n",
            "\n",
            "           0     0.8969    0.9060    0.9015      5886\n",
            "           1     0.9069    0.8979    0.9024      6002\n",
            "\n",
            "    accuracy                         0.9019     11888\n",
            "   macro avg     0.9019    0.9020    0.9019     11888\n",
            "weighted avg     0.9020    0.9019    0.9019     11888\n",
            "\n"
          ]
        }
      ]
    },
    {
      "cell_type": "code",
      "source": [
        "plt.bar(cls_name, accuracy)\n",
        "plt.xticks(rotation=70)"
      ],
      "metadata": {
        "colab": {
          "base_uri": "https://localhost:8080/",
          "height": 419
        },
        "id": "KKQOWRVYZeNY",
        "outputId": "3b310d96-ef97-4b4f-c70f-3e1d88bce4e0"
      },
      "execution_count": null,
      "outputs": [
        {
          "output_type": "execute_result",
          "data": {
            "text/plain": [
              "([0, 1, 2, 3, 4, 5, 6, 7, 8, 9, 10, 11, 12],\n",
              " <a list of 13 Text major ticklabel objects>)"
            ]
          },
          "metadata": {},
          "execution_count": 35
        },
        {
          "output_type": "display_data",
          "data": {
            "text/plain": [
              "<Figure size 432x288 with 1 Axes>"
            ],
            "image/png": "[encoded data removed]"
          },
          "metadata": {
            "needs_background": "light"
          }
        }
      ]
    },
    {
      "cell_type": "markdown",
      "source": [
        "# **Facebook FastText Vectorization with Supervised Training**"
      ],
      "metadata": {
        "id": "z9QYlX9LDVda"
      }
    },
    {
      "cell_type": "code",
      "source": [
        "data_randomized = training_data_oversampled.sample(frac=1, random_state=1)\n",
        "\n",
        "# Calculate index for split 80:20 ratio\n",
        "training_test_index = round(len(data_randomized) * 0.8)\n",
        "\n",
        "# Split into training and test sets\n",
        "train_df = data_randomized[:training_test_index].reset_index(drop=True)\n",
        "test_df = data_randomized[training_test_index:].reset_index(drop=True)\n"
      ],
      "metadata": {
        "id": "d0q5TJ3wDY7a"
      },
      "execution_count": null,
      "outputs": []
    },
    {
      "cell_type": "code",
      "source": [
        "train_df.iloc[:, 1] = train_df.iloc[:, 1].apply(lambda x: '__label__' + str(x))\n",
        "test_df.iloc[:, 1] = test_df.iloc[:, 1].apply(lambda x: '__label__' + str(x))"
      ],
      "metadata": {
        "id": "kB-BYvD17mOD"
      },
      "execution_count": null,
      "outputs": []
    },
    {
      "cell_type": "code",
      "source": [
        "train_df.head()"
      ],
      "metadata": {
        "colab": {
          "base_uri": "https://localhost:8080/",
          "height": 206
        },
        "id": "7YXNlPoa75ui",
        "outputId": "64d260b2-50d4-4e2d-bff6-8729f2c37727"
      },
      "execution_count": null,
      "outputs": [
        {
          "output_type": "execute_result",
          "data": {
            "text/plain": [
              "      id       label                                              tweet  \\\n",
              "0   2716  __label__1               @user and it leads to more violence    \n",
              "1  11723  __label__1  sadly, those you call your enemies are the maj...   \n",
              "2  23338  __label__0        \"our passion is our strength\"   #instagood    \n",
              "3  13335  __label__0    i am popular. #i_am #positive #affirmation        \n",
              "4   6387  __label__0  @user @user @user @user not just men.  there a...   \n",
              "\n",
              "                                         clean_tweet  \\\n",
              "0                                      lead violence   \n",
              "1  sadly call enemy majority american fascist put...   \n",
              "2                         passion strength instagood   \n",
              "3                   popular iam positive affirmation   \n",
              "4                    men plenty female predator fact   \n",
              "\n",
              "                                           tokenized  \n",
              "0                                   [lead, violence]  \n",
              "1  [sadly, call, enemy, majority, american, fasci...  \n",
              "2                     [passion, strength, instagood]  \n",
              "3              [popular, iam, positive, affirmation]  \n",
              "4              [men, plenty, female, predator, fact]  "
            ],
            "text/html": [
              "\n",
              "  <div id=\"df-82f92cd3-3388-4aca-990c-cf6f2272668e\">\n",
              "    <div class=\"colab-df-container\">\n",
              "      <div>\n",
              "<style scoped>\n",
              "    .dataframe tbody tr th:only-of-type {\n",
              "        vertical-align: middle;\n",
              "    }\n",
              "\n",
              "    .dataframe tbody tr th {\n",
              "        vertical-align: top;\n",
              "    }\n",
              "\n",
              "    .dataframe thead th {\n",
              "        text-align: right;\n",
              "    }\n",
              "</style>\n",
              "<table border=\"1\" class=\"dataframe\">\n",
              "  <thead>\n",
              "    <tr style=\"text-align: right;\">\n",
              "      <th></th>\n",
              "      <th>id</th>\n",
              "      <th>label</th>\n",
              "      <th>tweet</th>\n",
              "      <th>clean_tweet</th>\n",
              "      <th>tokenized</th>\n",
              "    </tr>\n",
              "  </thead>\n",
              "  <tbody>\n",
              "    <tr>\n",
              "      <th>0</th>\n",
              "      <td>2716</td>\n",
              "      <td>__label__1</td>\n",
              "      <td>@user and it leads to more violence</td>\n",
              "      <td>lead violence</td>\n",
              "      <td>[lead, violence]</td>\n",
              "    </tr>\n",
              "    <tr>\n",
              "      <th>1</th>\n",
              "      <td>11723</td>\n",
              "      <td>__label__1</td>\n",
              "      <td>sadly, those you call your enemies are the maj...</td>\n",
              "      <td>sadly call enemy majority american fascist put...</td>\n",
              "      <td>[sadly, call, enemy, majority, american, fasci...</td>\n",
              "    </tr>\n",
              "    <tr>\n",
              "      <th>2</th>\n",
              "      <td>23338</td>\n",
              "      <td>__label__0</td>\n",
              "      <td>\"our passion is our strength\"   #instagood</td>\n",
              "      <td>passion strength instagood</td>\n",
              "      <td>[passion, strength, instagood]</td>\n",
              "    </tr>\n",
              "    <tr>\n",
              "      <th>3</th>\n",
              "      <td>13335</td>\n",
              "      <td>__label__0</td>\n",
              "      <td>i am popular. #i_am #positive #affirmation</td>\n",
              "      <td>popular iam positive affirmation</td>\n",
              "      <td>[popular, iam, positive, affirmation]</td>\n",
              "    </tr>\n",
              "    <tr>\n",
              "      <th>4</th>\n",
              "      <td>6387</td>\n",
              "      <td>__label__0</td>\n",
              "      <td>@user @user @user @user not just men.  there a...</td>\n",
              "      <td>men plenty female predator fact</td>\n",
              "      <td>[men, plenty, female, predator, fact]</td>\n",
              "    </tr>\n",
              "  </tbody>\n",
              "</table>\n",
              "</div>\n",
              "      <button class=\"colab-df-convert\" onclick=\"convertToInteractive('df-82f92cd3-3388-4aca-990c-cf6f2272668e')\"\n",
              "              title=\"Convert this dataframe to an interactive table.\"\n",
              "              style=\"display:none;\">\n",
              "        \n",
              "  <svg xmlns=\"http://www.w3.org/2000/svg\" height=\"24px\"viewBox=\"0 0 24 24\"\n",
              "       width=\"24px\">\n",
              "    <path d=\"M0 0h24v24H0V0z\" fill=\"none\"/>\n",
              "    <path d=\"M18.56 5.44l.94 2.06.94-2.06 2.06-.94-2.06-.94-.94-2.06-.94 2.06-2.06.94zm-11 1L8.5 8.5l.94-2.06 2.06-.94-2.06-.94L8.5 2.5l-.94 2.06-2.06.94zm10 10l.94 2.06.94-2.06 2.06-.94-2.06-.94-.94-2.06-.94 2.06-2.06.94z\"/><path d=\"M17.41 7.96l-1.37-1.37c-.4-.4-.92-.59-1.43-.59-.52 0-1.04.2-1.43.59L10.3 9.45l-7.72 7.72c-.78.78-.78 2.05 0 2.83L4 21.41c.39.39.9.59 1.41.59.51 0 1.02-.2 1.41-.59l7.78-7.78 2.81-2.81c.8-.78.8-2.07 0-2.86zM5.41 20L4 18.59l7.72-7.72 1.47 1.35L5.41 20z\"/>\n",
              "  </svg>\n",
              "      </button>\n",
              "      \n",
              "  <style>\n",
              "    .colab-df-container {\n",
              "      display:flex;\n",
              "      flex-wrap:wrap;\n",
              "      gap: 12px;\n",
              "    }\n",
              "\n",
              "    .colab-df-convert {\n",
              "      background-color: #E8F0FE;\n",
              "      border: none;\n",
              "      border-radius: 50%;\n",
              "      cursor: pointer;\n",
              "      display: none;\n",
              "      fill: #1967D2;\n",
              "      height: 32px;\n",
              "      padding: 0 0 0 0;\n",
              "      width: 32px;\n",
              "    }\n",
              "\n",
              "    .colab-df-convert:hover {\n",
              "      background-color: #E2EBFA;\n",
              "      box-shadow: 0px 1px 2px rgba(60, 64, 67, 0.3), 0px 1px 3px 1px rgba(60, 64, 67, 0.15);\n",
              "      fill: #174EA6;\n",
              "    }\n",
              "\n",
              "    [theme=dark] .colab-df-convert {\n",
              "      background-color: #3B4455;\n",
              "      fill: #D2E3FC;\n",
              "    }\n",
              "\n",
              "    [theme=dark] .colab-df-convert:hover {\n",
              "      background-color: #434B5C;\n",
              "      box-shadow: 0px 1px 3px 1px rgba(0, 0, 0, 0.15);\n",
              "      filter: drop-shadow(0px 1px 2px rgba(0, 0, 0, 0.3));\n",
              "      fill: #FFFFFF;\n",
              "    }\n",
              "  </style>\n",
              "\n",
              "      <script>\n",
              "        const buttonEl =\n",
              "          document.querySelector('#df-82f92cd3-3388-4aca-990c-cf6f2272668e button.colab-df-convert');\n",
              "        buttonEl.style.display =\n",
              "          google.colab.kernel.accessAllowed ? 'block' : 'none';\n",
              "\n",
              "        async function convertToInteractive(key) {\n",
              "          const element = document.querySelector('#df-82f92cd3-3388-4aca-990c-cf6f2272668e');\n",
              "          const dataTable =\n",
              "            await google.colab.kernel.invokeFunction('convertToInteractive',\n",
              "                                                     [key], {});\n",
              "          if (!dataTable) return;\n",
              "\n",
              "          const docLinkHtml = 'Like what you see? Visit the ' +\n",
              "            '<a target=\"_blank\" href=https://colab.research.google.com/notebooks/data_table.ipynb>data table notebook</a>'\n",
              "            + ' to learn more about interactive tables.';\n",
              "          element.innerHTML = '';\n",
              "          dataTable['output_type'] = 'display_data';\n",
              "          await google.colab.output.renderOutput(dataTable, element);\n",
              "          const docLink = document.createElement('div');\n",
              "          docLink.innerHTML = docLinkHtml;\n",
              "          element.appendChild(docLink);\n",
              "        }\n",
              "      </script>\n",
              "    </div>\n",
              "  </div>\n",
              "  "
            ]
          },
          "metadata": {},
          "execution_count": 38
        }
      ]
    },
    {
      "cell_type": "code",
      "source": [
        "!pip install fasttext\n",
        "import csv\n",
        "import fasttext\n",
        "train_df[['label', 'clean_tweet']].to_csv('train.txt', \n",
        "                                          index = False, \n",
        "                                          sep = ' ',\n",
        "                                          header = None, \n",
        "                                          quoting = csv.QUOTE_NONE, \n",
        "                                          quotechar = \"\", \n",
        "                                          escapechar = \" \")\n",
        "\n",
        "test_df[['label', 'clean_tweet']].to_csv('test.txt', \n",
        "                                     index = False, \n",
        "                                     sep = ' ',\n",
        "                                     header = None, \n",
        "                                     quoting = csv.QUOTE_NONE, \n",
        "                                     quotechar = \"\", \n",
        "                                     escapechar = \" \")"
      ],
      "metadata": {
        "id": "3nIIUzV-8Puy",
        "colab": {
          "base_uri": "https://localhost:8080/"
        },
        "outputId": "afa45a14-2732-45ee-8ac9-92e08ee74751"
      },
      "execution_count": null,
      "outputs": [
        {
          "output_type": "stream",
          "name": "stdout",
          "text": [
            "Looking in indexes: https://pypi.org/simple, https://us-python.pkg.dev/colab-wheels/public/simple/\n",
            "Collecting fasttext\n",
            "  Downloading fasttext-0.9.2.tar.gz (68 kB)\n",
            "\u001b[K     |████████████████████████████████| 68 kB 4.1 MB/s \n",
            "\u001b[?25hCollecting pybind11>=2.2\n",
            "  Using cached pybind11-2.10.0-py3-none-any.whl (213 kB)\n",
            "Requirement already satisfied: setuptools>=0.7.0 in /usr/local/lib/python3.7/dist-packages (from fasttext) (57.4.0)\n",
            "Requirement already satisfied: numpy in /usr/local/lib/python3.7/dist-packages (from fasttext) (1.21.6)\n",
            "Building wheels for collected packages: fasttext\n",
            "  Building wheel for fasttext (setup.py) ... \u001b[?25l\u001b[?25hdone\n",
            "  Created wheel for fasttext: filename=fasttext-0.9.2-cp37-cp37m-linux_x86_64.whl size=3165189 sha256=619082d2312b9b1a49af11469b1849cf63b4932b27d57b5bb307b77b78a26ca4\n",
            "  Stored in directory: /root/.cache/pip/wheels/4e/ca/bf/b020d2be95f7641801a6597a29c8f4f19e38f9c02a345bab9b\n",
            "Successfully built fasttext\n",
            "Installing collected packages: pybind11, fasttext\n",
            "Successfully installed fasttext-0.9.2 pybind11-2.10.0\n"
          ]
        }
      ]
    },
    {
      "cell_type": "code",
      "source": [
        "X_train, X_test, y_train, y_test = train_test_split (training_data_oversampled['clean_tweet'], training_data_oversampled['label'] , test_size=0.2)"
      ],
      "metadata": {
        "id": "BIlpQCBTHwcd"
      },
      "execution_count": null,
      "outputs": []
    },
    {
      "cell_type": "code",
      "source": [
        "model = fasttext.train_supervised('train.txt',epoch=100)"
      ],
      "metadata": {
        "id": "XRmGEQrh8eUo"
      },
      "execution_count": null,
      "outputs": []
    },
    {
      "cell_type": "code",
      "source": [
        "predictions=[]\n",
        "for line in test_df['clean_tweet']:\n",
        "    pred_label=model.predict(line)[0][0][9]\n",
        "    predictions.append(int(pred_label))\n",
        "\n",
        "    "
      ],
      "metadata": {
        "id": "mVhAyJwmDt-B"
      },
      "execution_count": null,
      "outputs": []
    },
    {
      "cell_type": "code",
      "source": [
        "y_testt=test_df[\"label\"].tolist()\n",
        "\n",
        "y_test=[]\n",
        "for i in range(len(y_testt)):\n",
        "  y_test.append(int(y_testt[i][9]))\n"
      ],
      "metadata": {
        "id": "fSzabpd7RcE5"
      },
      "execution_count": null,
      "outputs": []
    },
    {
      "cell_type": "code",
      "source": [
        "print (classification_report(predictions, y_test, digits=4))"
      ],
      "metadata": {
        "colab": {
          "base_uri": "https://localhost:8080/"
        },
        "id": "lOJRw2FFHQKu",
        "outputId": "a7213812-d2e4-4a01-e9c6-4b7716dddf93"
      },
      "execution_count": null,
      "outputs": [
        {
          "output_type": "stream",
          "name": "stdout",
          "text": [
            "              precision    recall  f1-score   support\n",
            "\n",
            "           0     0.9649    0.9986    0.9815      5732\n",
            "           1     0.9987    0.9662    0.9822      6156\n",
            "\n",
            "    accuracy                         0.9818     11888\n",
            "   macro avg     0.9818    0.9824    0.9818     11888\n",
            "weighted avg     0.9824    0.9818    0.9818     11888\n",
            "\n"
          ]
        }
      ]
    },
    {
      "cell_type": "code",
      "source": [
        "def print_results(N, p, r):\n",
        "    print(\"N\\t\" + str(N))\n",
        "    print(\"P@{}\\t{:.3f}\".format(1, p))\n",
        "    print(\"R@{}\\t{:.3f}\".format(1, r))\n",
        "    \n",
        "print_results(*model.test('test.txt'))"
      ],
      "metadata": {
        "colab": {
          "base_uri": "https://localhost:8080/"
        },
        "id": "AKssyEYU9sJG",
        "outputId": "ab44b2a9-721c-48a7-b9f2-12bc227afbb1"
      },
      "execution_count": null,
      "outputs": [
        {
          "output_type": "stream",
          "name": "stdout",
          "text": [
            "N\t11888\n",
            "P@1\t0.982\n",
            "R@1\t0.982\n"
          ]
        }
      ]
    },
    {
      "cell_type": "markdown",
      "source": [
        "# **Facebook FastText Vectorization with Unsupervised Training**"
      ],
      "metadata": {
        "id": "Gkse6oYUlzji"
      }
    },
    {
      "cell_type": "code",
      "source": [
        "data_randomized = training_data_oversampled.sample(frac=1, random_state=1)\n",
        "\n",
        "# Calculate index for split 80:20 ratio\n",
        "training_test_index = round(len(data_randomized) * 0.8)\n",
        "\n",
        "# Split into training and test sets\n",
        "train_df = data_randomized[:training_test_index].reset_index(drop=True)\n",
        "test_df = data_randomized[training_test_index:].reset_index(drop=True)\n"
      ],
      "metadata": {
        "id": "lDGpmyV_lzji"
      },
      "execution_count": null,
      "outputs": []
    },
    {
      "cell_type": "code",
      "source": [
        "train_df.iloc[:, 1] = train_df.iloc[:, 1].apply(lambda x: '__label__' + str(x))\n",
        "test_df.iloc[:, 1] = test_df.iloc[:, 1].apply(lambda x: '__label__' + str(x))"
      ],
      "metadata": {
        "id": "DLsfaW-rlzjj"
      },
      "execution_count": null,
      "outputs": []
    },
    {
      "cell_type": "code",
      "source": [
        "train_df.head()"
      ],
      "metadata": {
        "colab": {
          "base_uri": "https://localhost:8080/",
          "height": 206
        },
        "outputId": "24a6da3c-1b2b-4ec7-a6d1-9bac872db443",
        "id": "0j-rGPxBlzjj"
      },
      "execution_count": null,
      "outputs": [
        {
          "output_type": "execute_result",
          "data": {
            "text/plain": [
              "      id       label                                              tweet  \\\n",
              "0   2716  __label__1               @user and it leads to more violence    \n",
              "1  11723  __label__1  sadly, those you call your enemies are the maj...   \n",
              "2  23338  __label__0        \"our passion is our strength\"   #instagood    \n",
              "3  13335  __label__0    i am popular. #i_am #positive #affirmation        \n",
              "4   6387  __label__0  @user @user @user @user not just men.  there a...   \n",
              "\n",
              "                                         clean_tweet  \\\n",
              "0                                      lead violence   \n",
              "1  sadly call enemy majority american fascist put...   \n",
              "2                         passion strength instagood   \n",
              "3                   popular iam positive affirmation   \n",
              "4                    men plenty female predator fact   \n",
              "\n",
              "                                           tokenized  \n",
              "0                                   [lead, violence]  \n",
              "1  [sadly, call, enemy, majority, american, fasci...  \n",
              "2                     [passion, strength, instagood]  \n",
              "3              [popular, iam, positive, affirmation]  \n",
              "4              [men, plenty, female, predator, fact]  "
            ],
            "text/html": [
              "\n",
              "  <div id=\"df-333086f9-47f0-47c4-a320-64a73f6e528a\">\n",
              "    <div class=\"colab-df-container\">\n",
              "      <div>\n",
              "<style scoped>\n",
              "    .dataframe tbody tr th:only-of-type {\n",
              "        vertical-align: middle;\n",
              "    }\n",
              "\n",
              "    .dataframe tbody tr th {\n",
              "        vertical-align: top;\n",
              "    }\n",
              "\n",
              "    .dataframe thead th {\n",
              "        text-align: right;\n",
              "    }\n",
              "</style>\n",
              "<table border=\"1\" class=\"dataframe\">\n",
              "  <thead>\n",
              "    <tr style=\"text-align: right;\">\n",
              "      <th></th>\n",
              "      <th>id</th>\n",
              "      <th>label</th>\n",
              "      <th>tweet</th>\n",
              "      <th>clean_tweet</th>\n",
              "      <th>tokenized</th>\n",
              "    </tr>\n",
              "  </thead>\n",
              "  <tbody>\n",
              "    <tr>\n",
              "      <th>0</th>\n",
              "      <td>2716</td>\n",
              "      <td>__label__1</td>\n",
              "      <td>@user and it leads to more violence</td>\n",
              "      <td>lead violence</td>\n",
              "      <td>[lead, violence]</td>\n",
              "    </tr>\n",
              "    <tr>\n",
              "      <th>1</th>\n",
              "      <td>11723</td>\n",
              "      <td>__label__1</td>\n",
              "      <td>sadly, those you call your enemies are the maj...</td>\n",
              "      <td>sadly call enemy majority american fascist put...</td>\n",
              "      <td>[sadly, call, enemy, majority, american, fasci...</td>\n",
              "    </tr>\n",
              "    <tr>\n",
              "      <th>2</th>\n",
              "      <td>23338</td>\n",
              "      <td>__label__0</td>\n",
              "      <td>\"our passion is our strength\"   #instagood</td>\n",
              "      <td>passion strength instagood</td>\n",
              "      <td>[passion, strength, instagood]</td>\n",
              "    </tr>\n",
              "    <tr>\n",
              "      <th>3</th>\n",
              "      <td>13335</td>\n",
              "      <td>__label__0</td>\n",
              "      <td>i am popular. #i_am #positive #affirmation</td>\n",
              "      <td>popular iam positive affirmation</td>\n",
              "      <td>[popular, iam, positive, affirmation]</td>\n",
              "    </tr>\n",
              "    <tr>\n",
              "      <th>4</th>\n",
              "      <td>6387</td>\n",
              "      <td>__label__0</td>\n",
              "      <td>@user @user @user @user not just men.  there a...</td>\n",
              "      <td>men plenty female predator fact</td>\n",
              "      <td>[men, plenty, female, predator, fact]</td>\n",
              "    </tr>\n",
              "  </tbody>\n",
              "</table>\n",
              "</div>\n",
              "      <button class=\"colab-df-convert\" onclick=\"convertToInteractive('df-333086f9-47f0-47c4-a320-64a73f6e528a')\"\n",
              "              title=\"Convert this dataframe to an interactive table.\"\n",
              "              style=\"display:none;\">\n",
              "        \n",
              "  <svg xmlns=\"http://www.w3.org/2000/svg\" height=\"24px\"viewBox=\"0 0 24 24\"\n",
              "       width=\"24px\">\n",
              "    <path d=\"M0 0h24v24H0V0z\" fill=\"none\"/>\n",
              "    <path d=\"M18.56 5.44l.94 2.06.94-2.06 2.06-.94-2.06-.94-.94-2.06-.94 2.06-2.06.94zm-11 1L8.5 8.5l.94-2.06 2.06-.94-2.06-.94L8.5 2.5l-.94 2.06-2.06.94zm10 10l.94 2.06.94-2.06 2.06-.94-2.06-.94-.94-2.06-.94 2.06-2.06.94z\"/><path d=\"M17.41 7.96l-1.37-1.37c-.4-.4-.92-.59-1.43-.59-.52 0-1.04.2-1.43.59L10.3 9.45l-7.72 7.72c-.78.78-.78 2.05 0 2.83L4 21.41c.39.39.9.59 1.41.59.51 0 1.02-.2 1.41-.59l7.78-7.78 2.81-2.81c.8-.78.8-2.07 0-2.86zM5.41 20L4 18.59l7.72-7.72 1.47 1.35L5.41 20z\"/>\n",
              "  </svg>\n",
              "      </button>\n",
              "      \n",
              "  <style>\n",
              "    .colab-df-container {\n",
              "      display:flex;\n",
              "      flex-wrap:wrap;\n",
              "      gap: 12px;\n",
              "    }\n",
              "\n",
              "    .colab-df-convert {\n",
              "      background-color: #E8F0FE;\n",
              "      border: none;\n",
              "      border-radius: 50%;\n",
              "      cursor: pointer;\n",
              "      display: none;\n",
              "      fill: #1967D2;\n",
              "      height: 32px;\n",
              "      padding: 0 0 0 0;\n",
              "      width: 32px;\n",
              "    }\n",
              "\n",
              "    .colab-df-convert:hover {\n",
              "      background-color: #E2EBFA;\n",
              "      box-shadow: 0px 1px 2px rgba(60, 64, 67, 0.3), 0px 1px 3px 1px rgba(60, 64, 67, 0.15);\n",
              "      fill: #174EA6;\n",
              "    }\n",
              "\n",
              "    [theme=dark] .colab-df-convert {\n",
              "      background-color: #3B4455;\n",
              "      fill: #D2E3FC;\n",
              "    }\n",
              "\n",
              "    [theme=dark] .colab-df-convert:hover {\n",
              "      background-color: #434B5C;\n",
              "      box-shadow: 0px 1px 3px 1px rgba(0, 0, 0, 0.15);\n",
              "      filter: drop-shadow(0px 1px 2px rgba(0, 0, 0, 0.3));\n",
              "      fill: #FFFFFF;\n",
              "    }\n",
              "  </style>\n",
              "\n",
              "      <script>\n",
              "        const buttonEl =\n",
              "          document.querySelector('#df-333086f9-47f0-47c4-a320-64a73f6e528a button.colab-df-convert');\n",
              "        buttonEl.style.display =\n",
              "          google.colab.kernel.accessAllowed ? 'block' : 'none';\n",
              "\n",
              "        async function convertToInteractive(key) {\n",
              "          const element = document.querySelector('#df-333086f9-47f0-47c4-a320-64a73f6e528a');\n",
              "          const dataTable =\n",
              "            await google.colab.kernel.invokeFunction('convertToInteractive',\n",
              "                                                     [key], {});\n",
              "          if (!dataTable) return;\n",
              "\n",
              "          const docLinkHtml = 'Like what you see? Visit the ' +\n",
              "            '<a target=\"_blank\" href=https://colab.research.google.com/notebooks/data_table.ipynb>data table notebook</a>'\n",
              "            + ' to learn more about interactive tables.';\n",
              "          element.innerHTML = '';\n",
              "          dataTable['output_type'] = 'display_data';\n",
              "          await google.colab.output.renderOutput(dataTable, element);\n",
              "          const docLink = document.createElement('div');\n",
              "          docLink.innerHTML = docLinkHtml;\n",
              "          element.appendChild(docLink);\n",
              "        }\n",
              "      </script>\n",
              "    </div>\n",
              "  </div>\n",
              "  "
            ]
          },
          "metadata": {},
          "execution_count": 49
        }
      ]
    },
    {
      "cell_type": "code",
      "source": [
        "!pip install fasttext\n",
        "import csv\n",
        "import fasttext\n",
        "train_df[['label', 'clean_tweet']].to_csv('train.txt', \n",
        "                                          index = False, \n",
        "                                          sep = ' ',\n",
        "                                          header = None, \n",
        "                                          quoting = csv.QUOTE_NONE, \n",
        "                                          quotechar = \"\", \n",
        "                                          escapechar = \" \")\n",
        "\n",
        "test_df[['label', 'clean_tweet']].to_csv('test.txt', \n",
        "                                     index = False, \n",
        "                                     sep = ' ',\n",
        "                                     header = None, \n",
        "                                     quoting = csv.QUOTE_NONE, \n",
        "                                     quotechar = \"\", \n",
        "                                     escapechar = \" \")"
      ],
      "metadata": {
        "colab": {
          "base_uri": "https://localhost:8080/"
        },
        "outputId": "e22d2bad-a9da-4240-8bc5-a1ccabbfa253",
        "id": "maC-NEB-lzjj"
      },
      "execution_count": null,
      "outputs": [
        {
          "output_type": "stream",
          "name": "stdout",
          "text": [
            "Looking in indexes: https://pypi.org/simple, https://us-python.pkg.dev/colab-wheels/public/simple/\n",
            "Requirement already satisfied: fasttext in /usr/local/lib/python3.7/dist-packages (0.9.2)\n",
            "Requirement already satisfied: numpy in /usr/local/lib/python3.7/dist-packages (from fasttext) (1.21.6)\n",
            "Requirement already satisfied: setuptools>=0.7.0 in /usr/local/lib/python3.7/dist-packages (from fasttext) (57.4.0)\n",
            "Requirement already satisfied: pybind11>=2.2 in /usr/local/lib/python3.7/dist-packages (from fasttext) (2.10.0)\n"
          ]
        }
      ]
    },
    {
      "cell_type": "code",
      "source": [
        "X_train, X_test, y_train, y_test = train_test_split (training_data_oversampled['clean_tweet'], training_data_oversampled['label'] , test_size=0.2)"
      ],
      "metadata": {
        "id": "yp156uQrlzjj"
      },
      "execution_count": null,
      "outputs": []
    },
    {
      "cell_type": "code",
      "source": [
        "model = fasttext.train_unsupervised('train.txt',epoch=100)"
      ],
      "metadata": {
        "id": "7O2RlUT9lzjj"
      },
      "execution_count": null,
      "outputs": []
    },
    {
      "cell_type": "markdown",
      "source": [
        "# **BERT and Elmo Vectorization**"
      ],
      "metadata": {
        "id": "T0sfYboQLTM-"
      }
    },
    {
      "cell_type": "markdown",
      "source": [
        "**Will be implemented in the future.**"
      ],
      "metadata": {
        "id": "1dB-W3xVl5_O"
      }
    },
    {
      "cell_type": "markdown",
      "source": [
        "# **TEXT CLASSIFICATION WITH NEURAL NETWORKS**"
      ],
      "metadata": {
        "id": "PNhxnelEaJXB"
      }
    },
    {
      "cell_type": "markdown",
      "source": [
        "**Will be implemented in the future.**"
      ],
      "metadata": {
        "id": "Nw52vetrUtQz"
      }
    }
  ]
}